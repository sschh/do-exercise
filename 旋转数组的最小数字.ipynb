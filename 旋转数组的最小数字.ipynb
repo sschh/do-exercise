{
 "cells": [
  {
   "cell_type": "code",
   "execution_count": null,
   "metadata": {
    "collapsed": true
   },
   "outputs": [],
   "source": [
    "# -*- coding:utf-8 -*-\n",
    "class Solution:\n",
    "    def minNumberInRotateArray(self, rotateArray):\n",
    "        if rotateArray==[]:\n",
    "            return 0\n",
    "        length=len(rotateArray)\n",
    "        if length==1:\n",
    "            return rotateArray[0]\n",
    "        if rotateArray[length-1]>rotateArray[0]:\n",
    "            return rotateArray[0]\n",
    "        else:\n",
    "            for i in range(length):\n",
    "                if rotateArray[i+1]<rotateArray[i]:\n",
    "                    return rotateArray[i+1]"
   ]
  }
 ],
 "metadata": {
  "kernelspec": {
   "display_name": "Python 3",
   "language": "python",
   "name": "python3"
  },
  "language_info": {
   "codemirror_mode": {
    "name": "ipython",
    "version": 3
   },
   "file_extension": ".py",
   "mimetype": "text/x-python",
   "name": "python",
   "nbconvert_exporter": "python",
   "pygments_lexer": "ipython3",
   "version": "3.6.3"
  }
 },
 "nbformat": 4,
 "nbformat_minor": 2
}
