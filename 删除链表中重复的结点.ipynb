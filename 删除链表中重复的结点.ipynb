{
 "cells": [
  {
   "cell_type": "code",
   "execution_count": 7,
   "metadata": {},
   "outputs": [],
   "source": [
    "# -*- coding:utf-8 -*-\n",
    "class ListNode:\n",
    "     def __init__(self, x):\n",
    "            self.val = x\n",
    "            self.next = None\n",
    "class Solution:\n",
    "    def deleteDuplication(self, pHead):\n",
    "        if pHead==None or pHead.next==None:\n",
    "            return pHead\n",
    "        else:\n",
    "            Head=ListNode(0)\n",
    "            Head.next=pHead\n",
    "        dic={}\n",
    "        p=pHead\n",
    "        while p:\n",
    "            if p.val in dic.keys():\n",
    "                dic[p.val]+=1\n",
    "            else:\n",
    "                dic[p.val]=1\n",
    "            p=p.next\n",
    "        p=pHead\n",
    "        o=Head\n",
    "        while p:\n",
    "            if dic[p.val]>1:\n",
    "                o.next=p.next\n",
    "            else:\n",
    "                o=o.next\n",
    "            p=p.next\n",
    "        return Head.next"
   ]
  },
  {
   "cell_type": "code",
   "execution_count": 13,
   "metadata": {
    "collapsed": true
   },
   "outputs": [],
   "source": [
    "a=ListNode(1)\n",
    "b=ListNode(2)\n",
    "c=ListNode(3)\n",
    "d=ListNode(4)\n",
    "e=ListNode(4)\n",
    "f=ListNode(8)\n",
    "j=ListNode(8)\n",
    "a.next=b\n",
    "b.next=c\n",
    "c.next=d\n",
    "d.next=e\n",
    "e.next=f\n",
    "f.next=j"
   ]
  },
  {
   "cell_type": "code",
   "execution_count": 11,
   "metadata": {},
   "outputs": [
    {
     "name": "stdout",
     "output_type": "stream",
     "text": [
      "2\n",
      "3\n",
      "8\n"
     ]
    }
   ],
   "source": [
    "s=Solution()\n",
    "pp=s.deleteDuplication(a)\n",
    "while pp:\n",
    "    print(pp.val)\n",
    "    pp=pp.next\n",
    "    "
   ]
  }
 ],
 "metadata": {
  "kernelspec": {
   "display_name": "Python 3",
   "language": "python",
   "name": "python3"
  },
  "language_info": {
   "codemirror_mode": {
    "name": "ipython",
    "version": 3
   },
   "file_extension": ".py",
   "mimetype": "text/x-python",
   "name": "python",
   "nbconvert_exporter": "python",
   "pygments_lexer": "ipython3",
   "version": "3.6.3"
  }
 },
 "nbformat": 4,
 "nbformat_minor": 2
}
