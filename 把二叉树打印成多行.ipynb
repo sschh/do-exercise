{
 "cells": [
  {
   "cell_type": "code",
   "execution_count": 11,
   "metadata": {},
   "outputs": [],
   "source": [
    "class TreeNode:\n",
    "     def __init__(self, x):\n",
    "        self.val = x\n",
    "        self.left = None\n",
    "        self.right = None\n",
    "class Solution:\n",
    "    # 返回二维列表[[1,2],[4,5]]\n",
    "    def Print(self, pRoot):\n",
    "        if not pRoot:return []\n",
    "        queue=[pRoot]\n",
    "        count=1\n",
    "        result=[]\n",
    "        tempresult=[]\n",
    "        while queue:\n",
    "            temp=queue.pop(0)\n",
    "            count-=1\n",
    "            tempresult.append(temp.val)\n",
    "            if temp.left:queue.append(temp.left)\n",
    "            if temp.right:queue.append(temp.right)\n",
    "            if count==0:\n",
    "                result.append(tempresult)\n",
    "                count=len(queue)\n",
    "                tempresult=[]\n",
    "        return result"
   ]
  }
 ],
 "metadata": {
  "kernelspec": {
   "display_name": "Python 3",
   "language": "python",
   "name": "python3"
  },
  "language_info": {
   "codemirror_mode": {
    "name": "ipython",
    "version": 3
   },
   "file_extension": ".py",
   "mimetype": "text/x-python",
   "name": "python",
   "nbconvert_exporter": "python",
   "pygments_lexer": "ipython3",
   "version": "3.6.3"
  }
 },
 "nbformat": 4,
 "nbformat_minor": 2
}
