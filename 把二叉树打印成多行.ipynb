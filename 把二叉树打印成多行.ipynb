{
 "cells": [
  {
   "cell_type": "markdown",
   "metadata": {},
   "source": [
    "### 题目：从上到下按层打印二叉树，同一层结点从左至右输出。每一层输出一行。"
   ]
  },
  {
   "cell_type": "code",
   "execution_count": 11,
   "metadata": {
    "collapsed": true
   },
   "outputs": [],
   "source": [
    "#class TreeNode:\n",
    "#     def __init__(self, x):\n",
    "#        self.val = x\n",
    "#        self.left = None\n",
    "#        self.right = None\n",
    "\n",
    "#层序遍历，使用队列\n",
    "class Solution:\n",
    "    # 返回二维列表[[1,2],[4,5]]\n",
    "    def Print(self, pRoot):\n",
    "        if not pRoot:return []\n",
    "        #将根节点加入队列中\n",
    "        queue=[pRoot]\n",
    "        #记录当前层的节点数\n",
    "        count=1\n",
    "        #存储最终结果\n",
    "        result=[]\n",
    "        #暂时存储每层的节点值\n",
    "        tempresult=[]\n",
    "        while queue:\n",
    "            #队列首个元素出队\n",
    "            temp=queue.pop(0)\n",
    "            count-=1\n",
    "            tempresult.append(temp.val)\n",
    "            #（先左后右）若存在左子节点，入队\n",
    "            if temp.left:queue.append(temp.left)\n",
    "            #若存在右子节点，入队\n",
    "            if temp.right:queue.append(temp.right)\n",
    "            #若count为0，表示上一层节点出队完毕，现在队里存在所有的当前层节点\n",
    "            if count==0:\n",
    "                #将上一层节点的值加入到最终结果中\n",
    "                result.append(tempresult)\n",
    "                #记录当前层的节点数\n",
    "                count=len(queue)\n",
    "                tempresult=[]\n",
    "        return result"
   ]
  }
 ],
 "metadata": {
  "kernelspec": {
   "display_name": "Python 3",
   "language": "python",
   "name": "python3"
  },
  "language_info": {
   "codemirror_mode": {
    "name": "ipython",
    "version": 3
   },
   "file_extension": ".py",
   "mimetype": "text/x-python",
   "name": "python",
   "nbconvert_exporter": "python",
   "pygments_lexer": "ipython3",
   "version": "3.6.3"
  }
 },
 "nbformat": 4,
 "nbformat_minor": 2
}
