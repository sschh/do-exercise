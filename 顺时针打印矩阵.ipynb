{
 "cells": [
  {
   "cell_type": "markdown",
   "metadata": {},
   "source": [
    "### 题目：输入一个矩阵，按照从外向里以顺时针的顺序依次打印出每一个数字，例如，如果输入如下4 X 4矩阵： 1 2 3 4 5 6 7 8 9 10 11 12 13 14 15 16 则依次打印出数字1,2,3,4,8,12,16,15,14,13,9,5,6,7,11,10."
   ]
  },
  {
   "cell_type": "code",
   "execution_count": 113,
   "metadata": {
    "collapsed": true
   },
   "outputs": [],
   "source": [
    "# -*- coding:utf-8 -*-\n",
    "class Solution:\n",
    "    # matrix类型为二维列表，需要返回列表\n",
    "    def printMatrix(self, matrix):\n",
    "        if matrix==[]:\n",
    "            return []\n",
    "        if len(matrix)==1:\n",
    "            return matrix[0]\n",
    "        if len(matrix[0])==1:\n",
    "            output=[]\n",
    "            for i in matrix:\n",
    "                output+=i\n",
    "            return output\n",
    "        left=-1\n",
    "        up=0\n",
    "        right=len(matrix[0])-1\n",
    "        down=len(matrix)-1\n",
    "        i=0\n",
    "        j=right\n",
    "        output=matrix[0]\n",
    "        matrix[0]=[None]*(right+1)\n",
    "        \n",
    "        while(1):\n",
    "            if j<len(matrix[0])-1 and i<len(matrix)-1 and j>0 and i>0 and matrix[i+1][j]==None and matrix[i-1][j]==None \\\n",
    "            and matrix[i][j-1]==None and matrix[i][j+1]==None:\n",
    "                return output\n",
    "            if j==0 and matrix[i][1]==None and matrix[i-1][0]==None:\n",
    "                return output\n",
    "         \n",
    "            if j==right and i==down:\n",
    "                direction='left'\n",
    "                up+=1\n",
    "            elif j==right and i==len(matrix)-1-down:\n",
    "                direction='down'\n",
    "                left+=1\n",
    "            elif j==left and i==up:\n",
    "                direction='right'\n",
    "                down-=1\n",
    "            elif j==left and i==len(matrix)-up:\n",
    "                direction='up'\n",
    "                if len(matrix[0])>2:\n",
    "                    right-=1\n",
    "            i,j=self.walk(i,j,direction)\n",
    "            output.append(matrix[i][j])\n",
    "            matrix[i][j]=None\n",
    "                      \n",
    "    def walk(self,i,j,direction):\n",
    "        if direction=='right':\n",
    "            j+=1\n",
    "        elif direction=='down':\n",
    "            i+=1\n",
    "        elif direction=='left':\n",
    "            j-=1\n",
    "        elif direction=='up':\n",
    "            i-=1\n",
    "        return i,j"
   ]
  },
  {
   "cell_type": "code",
   "execution_count": 114,
   "metadata": {},
   "outputs": [
    {
     "data": {
      "text/plain": [
       "[1, 2, 3, 4, 5, 10, 15, 14, 13, 12, 11, 6, 7, 8, 9]"
      ]
     },
     "execution_count": 114,
     "metadata": {},
     "output_type": "execute_result"
    }
   ],
   "source": [
    "s=Solution()\n",
    "a=[[1,2,3,4,5],[6,7,8,9,10],[11,12,13,14,15]]\n",
    "b=s.printMatrix(a)\n",
    "b"
   ]
  }
 ],
 "metadata": {
  "kernelspec": {
   "display_name": "Python 3",
   "language": "python",
   "name": "python3"
  },
  "language_info": {
   "codemirror_mode": {
    "name": "ipython",
    "version": 3
   },
   "file_extension": ".py",
   "mimetype": "text/x-python",
   "name": "python",
   "nbconvert_exporter": "python",
   "pygments_lexer": "ipython3",
   "version": "3.6.3"
  }
 },
 "nbformat": 4,
 "nbformat_minor": 2
}
