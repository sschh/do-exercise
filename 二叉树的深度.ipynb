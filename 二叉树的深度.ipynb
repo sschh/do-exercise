{
 "cells": [
  {
   "cell_type": "code",
   "execution_count": 1,
   "metadata": {
    "collapsed": true
   },
   "outputs": [],
   "source": [
    "#递归\n",
    "def TreeDepth(self, pRoot):\n",
    "    if not pRoot:\n",
    "        return 0\n",
    "    left=self.TreeDepth(pRoot.left)+1\n",
    "    right=self.TreeDepth(pRoot.right)+1\n",
    "    return left if left>=right else right"
   ]
  },
  {
   "cell_type": "code",
   "execution_count": 2,
   "metadata": {},
   "outputs": [
    {
     "ename": "NameError",
     "evalue": "name 'math' is not defined",
     "output_type": "error",
     "traceback": [
      "\u001b[1;31m---------------------------------------------------------------------------\u001b[0m",
      "\u001b[1;31mNameError\u001b[0m                                 Traceback (most recent call last)",
      "\u001b[1;32m<ipython-input-2-909e7af17c19>\u001b[0m in \u001b[0;36m<module>\u001b[1;34m()\u001b[0m\n\u001b[1;32m----> 1\u001b[1;33m \u001b[0mmath\u001b[0m\u001b[1;33m.\u001b[0m\u001b[0mmax\u001b[0m\u001b[1;33m(\u001b[0m\u001b[1;36m4\u001b[0m\u001b[1;33m,\u001b[0m\u001b[1;36m5\u001b[0m\u001b[1;33m)\u001b[0m\u001b[1;33m\u001b[0m\u001b[0m\n\u001b[0m",
      "\u001b[1;31mNameError\u001b[0m: name 'math' is not defined"
     ]
    }
   ],
   "source": [
    "#队列\n",
    "def TreeDepth(self, pRoot):\n",
    "    if not pRoot:\n",
    "        return 0\n",
    "    queue=[pRoot]\n",
    "    depth=0\n",
    "    count=0\n",
    "    size=len(queue)\n",
    "    while queue!=[]:\n",
    "        root=queue.pop(0)\n",
    "        count+=1\n",
    "        if not root.left:\n",
    "            queue.append(root.left)\n",
    "        if not root.right:\n",
    "            queue.append(root.right)\n",
    "        if count==size:\n",
    "            depth+=1\n",
    "            count=0\n",
    "            size=len(queue)\n",
    "    return depth"
   ]
  },
  {
   "cell_type": "code",
   "execution_count": null,
   "metadata": {
    "collapsed": true
   },
   "outputs": [],
   "source": []
  }
 ],
 "metadata": {
  "kernelspec": {
   "display_name": "Python 3",
   "language": "python",
   "name": "python3"
  },
  "language_info": {
   "codemirror_mode": {
    "name": "ipython",
    "version": 3
   },
   "file_extension": ".py",
   "mimetype": "text/x-python",
   "name": "python",
   "nbconvert_exporter": "python",
   "pygments_lexer": "ipython3",
   "version": "3.6.3"
  }
 },
 "nbformat": 4,
 "nbformat_minor": 2
}
