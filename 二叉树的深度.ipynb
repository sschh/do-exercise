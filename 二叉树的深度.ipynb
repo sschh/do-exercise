{
 "cells": [
  {
   "cell_type": "markdown",
   "metadata": {},
   "source": [
    "### 题目：输入一棵二叉树，求该树的深度。从根结点到叶结点依次经过的结点（含根、叶结点）形成树的一条路径，最长路径的长度为树的深度。"
   ]
  },
  {
   "cell_type": "code",
   "execution_count": 1,
   "metadata": {
    "collapsed": true
   },
   "outputs": [],
   "source": [
    "#递归\n",
    "class Solution:\n",
    "    def TreeDepth(self, pRoot):\n",
    "        #若没有节点，深度为0\n",
    "        if not pRoot:\n",
    "            return 0\n",
    "        #+1表示加上当前节点的深度\n",
    "        left=self.TreeDepth(pRoot.left)+1\n",
    "        right=self.TreeDepth(pRoot.right)+1\n",
    "        #返回左右子树中深度大的\n",
    "        return max(left,right)"
   ]
  },
  {
   "cell_type": "code",
   "execution_count": null,
   "metadata": {
    "collapsed": true
   },
   "outputs": [],
   "source": [
    "#队列\n",
    "#层序遍历，循环直到队列为空\n",
    "def TreeDepth(self, pRoot):\n",
    "    if not pRoot:\n",
    "        return 0\n",
    "    #根节点放到队列里\n",
    "    queue=[pRoot]\n",
    "    #深度\n",
    "    depth=0\n",
    "    #计数，等于size时表示该层节点全部出队\n",
    "    count=0\n",
    "    #记录每层节点数量\n",
    "    size=len(queue)\n",
    "    while queue!=[]:\n",
    "        #取出当前节点\n",
    "        root=queue.pop(0)\n",
    "        count+=1\n",
    "        #先判断左子节点\n",
    "        if not root.left:\n",
    "            queue.append(root.left)\n",
    "        if not root.right:\n",
    "            queue.append(root.right)\n",
    "        #表示当前层所有子节点都已取出，队列中剩下的是下一层的所有节点\n",
    "        if count==size:\n",
    "            #深度+1\n",
    "            depth+=1\n",
    "            #计数清零\n",
    "            count=0\n",
    "            size=len(queue)\n",
    "    return depth"
   ]
  }
 ],
 "metadata": {
  "kernelspec": {
   "display_name": "Python 3",
   "language": "python",
   "name": "python3"
  },
  "language_info": {
   "codemirror_mode": {
    "name": "ipython",
    "version": 3
   },
   "file_extension": ".py",
   "mimetype": "text/x-python",
   "name": "python",
   "nbconvert_exporter": "python",
   "pygments_lexer": "ipython3",
   "version": "3.6.3"
  }
 },
 "nbformat": 4,
 "nbformat_minor": 2
}
