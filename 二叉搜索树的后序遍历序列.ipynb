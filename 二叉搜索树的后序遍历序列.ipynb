{
 "cells": [
  {
   "cell_type": "code",
   "execution_count": 41,
   "metadata": {
    "collapsed": true
   },
   "outputs": [],
   "source": [
    "# -*- coding:utf-8 -*-\n",
    "class Solution:\n",
    "    def VerifySquenceOfBST(self, sequence):\n",
    "        if sequence==[]:\n",
    "            return \"No\"\n",
    "        return \"Yes\" if(self.IsBST(sequence)) else \"No\"\n",
    "    \n",
    "    def IsBST(self,array):\n",
    "        right=0\n",
    "        while (right<len(array)-1):\n",
    "            if array[right]>array[-1]:\n",
    "                break\n",
    "            right+=1\n",
    "        isLeft=isRight=True\n",
    "        if right!=len(array)-1:\n",
    "            for num in array[right:-1]:\n",
    "                if num<array[-1]:\n",
    "                    return False\n",
    "        if right!=0:\n",
    "            isLeft=self.IsBST(array[0:right])\n",
    "        if right!=len(array)-1:\n",
    "            isRight=self.IsBST(array[right:-1])\n",
    "       # print(str(isLeft)+\" \"+str(isRight))\n",
    "        return (isLeft and isRight)"
   ]
  },
  {
   "cell_type": "code",
   "execution_count": 42,
   "metadata": {},
   "outputs": [
    {
     "name": "stdout",
     "output_type": "stream",
     "text": [
      "4\n"
     ]
    },
    {
     "data": {
      "text/plain": [
       "'No'"
      ]
     },
     "execution_count": 42,
     "metadata": {},
     "output_type": "execute_result"
    }
   ],
   "source": [
    "s=Solution()\n",
    "s.VerifySquenceOfBST([7,4,6,5])"
   ]
  },
  {
   "cell_type": "code",
   "execution_count": 24,
   "metadata": {},
   "outputs": [
    {
     "data": {
      "text/plain": [
       "[]"
      ]
     },
     "execution_count": 24,
     "metadata": {},
     "output_type": "execute_result"
    }
   ],
   "source": [
    "a=[1,2,3,4]\n",
    "a[3:-1]"
   ]
  },
  {
   "cell_type": "code",
   "execution_count": null,
   "metadata": {
    "collapsed": true
   },
   "outputs": [],
   "source": []
  }
 ],
 "metadata": {
  "kernelspec": {
   "display_name": "Python 3",
   "language": "python",
   "name": "python3"
  },
  "language_info": {
   "codemirror_mode": {
    "name": "ipython",
    "version": 3
   },
   "file_extension": ".py",
   "mimetype": "text/x-python",
   "name": "python",
   "nbconvert_exporter": "python",
   "pygments_lexer": "ipython3",
   "version": "3.6.3"
  }
 },
 "nbformat": 4,
 "nbformat_minor": 2
}
