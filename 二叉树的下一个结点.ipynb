{
 "cells": [
  {
   "cell_type": "code",
   "execution_count": 8,
   "metadata": {
    "collapsed": true
   },
   "outputs": [],
   "source": [
    "class TreeLinkNode:\n",
    "     def __init__(self, x):\n",
    "        self.val = x\n",
    "        self.left = None\n",
    "        self.right = None\n",
    "        self.next = None\n",
    "class Solution:\n",
    "    def GetNext(self, pNode):\n",
    "        if not pNode:return None\n",
    "        if pNode.right:\n",
    "            Node=pNode.right\n",
    "            while Node.left:\n",
    "                Node=Node.left\n",
    "            return Node\n",
    "        else:\n",
    "            Node=pNode\n",
    "            while Node.next:\n",
    "                if Node.next.left==Node:\n",
    "                    return Node.next\n",
    "                else:\n",
    "                    Node=Node.next\n",
    "            return Node.next  "
   ]
  }
 ],
 "metadata": {
  "kernelspec": {
   "display_name": "Python 3",
   "language": "python",
   "name": "python3"
  },
  "language_info": {
   "codemirror_mode": {
    "name": "ipython",
    "version": 3
   },
   "file_extension": ".py",
   "mimetype": "text/x-python",
   "name": "python",
   "nbconvert_exporter": "python",
   "pygments_lexer": "ipython3",
   "version": "3.6.3"
  }
 },
 "nbformat": 4,
 "nbformat_minor": 2
}
