{
 "cells": [
  {
   "cell_type": "code",
   "execution_count": 46,
   "metadata": {},
   "outputs": [],
   "source": [
    "# -*- coding:utf-8 -*-\n",
    "class Solution:\n",
    "    def LastRemaining_Solution(self, n, m):\n",
    "        if n==0:return -1\n",
    "        ls=list(range(n))\n",
    "        begin=0\n",
    "        while 1:\n",
    "            begin=self.remove(ls,begin,m)\n",
    "            length=len(ls)\n",
    "            if length==1:return ls[0]\n",
    "            if begin>=length:begin=0\n",
    "    def remove(self,la,begin,mm):\n",
    "        while begin+mm>2*len(la):\n",
    "            mm-=len(la)\n",
    "        if begin+mm<=len(la):\n",
    "            temp=begin+mm-1\n",
    "            la.pop(temp)\n",
    "            return temp\n",
    "        else:\n",
    "            temp=mm-len(la)+begin-1\n",
    "            la.pop(temp)\n",
    "            return temp"
   ]
  },
  {
   "cell_type": "code",
   "execution_count": 47,
   "metadata": {},
   "outputs": [
    {
     "name": "stdout",
     "output_type": "stream",
     "text": [
      "[0, 2, 3, 4] 1\n",
      "[0, 2, 4] 2\n",
      "[2, 4] 0\n",
      "[2] 1\n"
     ]
    },
    {
     "data": {
      "text/plain": [
       "[2]"
      ]
     },
     "execution_count": 47,
     "metadata": {},
     "output_type": "execute_result"
    }
   ],
   "source": [
    "s=Solution()\n",
    "s.LastRemaining_Solution(5,2)"
   ]
  }
 ],
 "metadata": {
  "kernelspec": {
   "display_name": "Python 3",
   "language": "python",
   "name": "python3"
  },
  "language_info": {
   "codemirror_mode": {
    "name": "ipython",
    "version": 3
   },
   "file_extension": ".py",
   "mimetype": "text/x-python",
   "name": "python",
   "nbconvert_exporter": "python",
   "pygments_lexer": "ipython3",
   "version": "3.6.3"
  }
 },
 "nbformat": 4,
 "nbformat_minor": 2
}
