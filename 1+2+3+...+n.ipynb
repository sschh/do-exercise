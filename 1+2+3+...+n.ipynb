{
 "cells": [
  {
   "cell_type": "markdown",
   "metadata": {},
   "source": [
    "### 题目：求1+2+3+...+n，要求不能使用乘除法、for、while、if、else、switch、case等关键字及条件判断语句"
   ]
  },
  {
   "cell_type": "code",
   "execution_count": 2,
   "metadata": {
    "collapsed": true
   },
   "outputs": [],
   "source": [
    "#短路逻辑\n",
    "#a and b:若a不满足，直接结束，输出False，不执行b;若a满足，执行b，若b满足输出b的结果，否则为False\n",
    "#a or b:若a满足，直接结束，输出True，不执行b;若a不满足，执行b，若b满足输出b的结果，否则为False\n",
    "class Solution:\n",
    "    def Sum_Solution(self, n):\n",
    "        #存储当前值\n",
    "        result=n\n",
    "        #若n>0,执行and后面的语句；当n=0时，不执行and后面的语句，递归停止，输出result（False为0）\n",
    "        result=n>0 and result+self.Sum_Solution(n-1) \n",
    "        return result"
   ]
  },
  {
   "cell_type": "code",
   "execution_count": null,
   "metadata": {
    "collapsed": true
   },
   "outputs": [],
   "source": [
    "#短路逻辑例子\n",
    "a=1\n",
    "b=2\n",
    "c=a==1 and b+2 #c:4\n",
    "c=a==3 and b+2 #c:False\n",
    "c=a==1 or b+2 #c:True\n",
    "c=a==3 or b+2 #c:4"
   ]
  }
 ],
 "metadata": {
  "kernelspec": {
   "display_name": "Python 3",
   "language": "python",
   "name": "python3"
  },
  "language_info": {
   "codemirror_mode": {
    "name": "ipython",
    "version": 3
   },
   "file_extension": ".py",
   "mimetype": "text/x-python",
   "name": "python",
   "nbconvert_exporter": "python",
   "pygments_lexer": "ipython3",
   "version": "3.6.3"
  }
 },
 "nbformat": 4,
 "nbformat_minor": 2
}
