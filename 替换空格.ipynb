{
 "cells": [
  {
   "cell_type": "code",
   "execution_count": 39,
   "metadata": {},
   "outputs": [],
   "source": [
    "class Solution:\n",
    "    # s 源字符串\n",
    "    def replaceSpace(self, s):\n",
    "        if len(s)>0:\n",
    "            a=list(s)\n",
    "            for i in range(len(a)-1,-1,-1):\n",
    "                if a[i]==' ':\n",
    "                    a.extend(['',''])\n",
    "                    for j in range(len(a)-1,i,-1):\n",
    "                        a[j]=a[j-2]\n",
    "                        a[i+2]='0'\n",
    "                        a[i+1]='2'\n",
    "                        a[i]='%'\n",
    "            s=''.join(a)\n",
    "        return s"
   ]
  }
 ],
 "metadata": {
  "kernelspec": {
   "display_name": "Python 3",
   "language": "python",
   "name": "python3"
  },
  "language_info": {
   "codemirror_mode": {
    "name": "ipython",
    "version": 3
   },
   "file_extension": ".py",
   "mimetype": "text/x-python",
   "name": "python",
   "nbconvert_exporter": "python",
   "pygments_lexer": "ipython3",
   "version": "3.6.3"
  }
 },
 "nbformat": 4,
 "nbformat_minor": 2
}
