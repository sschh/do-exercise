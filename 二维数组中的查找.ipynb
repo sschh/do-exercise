{
 "cells": [
  {
   "cell_type": "code",
   "execution_count": 6,
   "metadata": {
    "collapsed": true
   },
   "outputs": [],
   "source": [
    "class Solution:\n",
    "    # array 二维列表\n",
    "    def Find(self,target,array):\n",
    "        if array==[[]]:\n",
    "            return False\n",
    "        else:\n",
    "            l=len(array[0])-1\n",
    "            h=len(array)-1\n",
    "        i=0\n",
    "        j=0\n",
    "        f=l\n",
    "        while i<=h:\n",
    "            flag=True\n",
    "            while flag:\n",
    "                if target<array[i][(j+f)//2]:\n",
    "                    f=(j+f)//2-1\n",
    "                elif target>array[i][(j+f)//2]:\n",
    "                    j=(j+f)//2+1\n",
    "                else:\n",
    "                    return True\n",
    "                if f<j:\n",
    "                    flag=False\n",
    "            i+=1\n",
    "            if i>h or j==0:break   \n",
    "            if j>l:j=l\n",
    "            if array[i][j]<target:\n",
    "                f=l\n",
    "            elif array[i][j]>target:\n",
    "                f=j\n",
    "                j=0\n",
    "            else:\n",
    "                return True\n",
    "        return False\n",
    "                   \n",
    "            \n",
    "            "
   ]
  },
  {
   "cell_type": "code",
   "execution_count": 7,
   "metadata": {},
   "outputs": [
    {
     "data": {
      "text/plain": [
       "False"
      ]
     },
     "execution_count": 7,
     "metadata": {},
     "output_type": "execute_result"
    }
   ],
   "source": [
    "s=Solution()\n",
    "s.Find(5,[[]])"
   ]
  }
 ],
 "metadata": {
  "kernelspec": {
   "display_name": "Python 3",
   "language": "python",
   "name": "python3"
  },
  "language_info": {
   "codemirror_mode": {
    "name": "ipython",
    "version": 3
   },
   "file_extension": ".py",
   "mimetype": "text/x-python",
   "name": "python",
   "nbconvert_exporter": "python",
   "pygments_lexer": "ipython3",
   "version": "3.6.3"
  }
 },
 "nbformat": 4,
 "nbformat_minor": 2
}
