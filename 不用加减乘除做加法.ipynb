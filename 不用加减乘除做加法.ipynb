{
 "cells": [
  {
   "cell_type": "markdown",
   "metadata": {},
   "source": [
    "### 题目：求两个整数之和，要求在函数体内不得使用+、-、*、/四则运算符号。"
   ]
  },
  {
   "cell_type": "code",
   "execution_count": 69,
   "metadata": {
    "collapsed": true
   },
   "outputs": [],
   "source": [
    "#本题解来自牛客网评论区\n",
    "#python计算负数时，整型无法溢出,返回值时需要判断\n",
    "#(来自牛客网评论区：Python2.7中，整数的有int和long两个类型。int类型是一个固定位数的数；\n",
    "#long则是一个理论上可以存储无限大数的数据类型。当数大到可能溢出时，为了避免溢出，python会把int转化为long。\n",
    "#Python3.x之后整数只有一个可以放任意大数的int了)\n",
    "#########################\n",
    "#位运算\n",
    "#a<<n:二进制数a左移n位，即a乘以2的n次方\n",
    "#a^b:异或，作为不带进位的二进制加法，相加两二进制数各位上输出：不同为1，相同为0\n",
    "#a&b:用来计算进位，因为两数都为1才输出1，进到高位（使用“<<1”向右平移）\n",
    "#31位1是0x7FFFFFFF，用来判断正负\n",
    "#边界是32位1，即0xFFFFFFFF，正数&0xFFFFFFFF还是原正数，负数&0xFFFFFFFF是对应二进制真值\n",
    "#~n=-(n+1) 反码加1\n",
    "class Solution:\n",
    "    def Add(self, num1, num2):\n",
    "        while num2:\n",
    "            num1,num2=(num1^num2) & 0xFFFFFFFF,((num1&num2)<<1) & 0xFFFFFFFF\n",
    "        #若num1为正数，直接输出；否则 ~(num1^0xFFFFFFFF)\n",
    "        return num1 if num1<=0x7FFFFFFF else ~(num1^0xFFFFFFFF)"
   ]
  }
 ],
 "metadata": {
  "kernelspec": {
   "display_name": "Python 3",
   "language": "python",
   "name": "python3"
  },
  "language_info": {
   "codemirror_mode": {
    "name": "ipython",
    "version": 3
   },
   "file_extension": ".py",
   "mimetype": "text/x-python",
   "name": "python",
   "nbconvert_exporter": "python",
   "pygments_lexer": "ipython3",
   "version": "3.6.3"
  }
 },
 "nbformat": 4,
 "nbformat_minor": 2
}
