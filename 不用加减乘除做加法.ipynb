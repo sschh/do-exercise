{
 "cells": [
  {
   "cell_type": "code",
   "execution_count": 69,
   "metadata": {
    "collapsed": true
   },
   "outputs": [],
   "source": [
    "#python 计算负数时，整型无法溢出,返回值时需要判断\n",
    "class Solution:\n",
    "    def Add(self, num1, num2):\n",
    "        while num2:\n",
    "            num1,num2=(num1^num2) & 0xFFFFFFFF,((num1&num2)<<1) & 0xFFFFFFFF\n",
    "        return num1 if num1<=0x7FFFFFFF else ~(num1^0xFFFFFFFF)"
   ]
  }
 ],
 "metadata": {
  "kernelspec": {
   "display_name": "Python 3",
   "language": "python",
   "name": "python3"
  },
  "language_info": {
   "codemirror_mode": {
    "name": "ipython",
    "version": 3
   },
   "file_extension": ".py",
   "mimetype": "text/x-python",
   "name": "python",
   "nbconvert_exporter": "python",
   "pygments_lexer": "ipython3",
   "version": "3.6.3"
  }
 },
 "nbformat": 4,
 "nbformat_minor": 2
}
