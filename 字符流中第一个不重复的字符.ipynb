{
 "cells": [
  {
   "cell_type": "code",
   "execution_count": 20,
   "metadata": {},
   "outputs": [],
   "source": [
    "# -*- coding:utf-8 -*-\n",
    "class Solution:\n",
    "    # 返回对应char\n",
    "    def __init__(self):\n",
    "        self.dic={}\n",
    "        self.s=''\n",
    "    def FirstAppearingOnce(self):\n",
    "        return self.s\n",
    "    def Insert(self,char):\n",
    "        if char!='':\n",
    "            temp='#'\n",
    "            for i in char:\n",
    "                if i in self.dic.keys():\n",
    "                    self.dic[i]+=1\n",
    "                else:\n",
    "                    self.dic[i]=1\n",
    "                    if temp=='#':temp=i\n",
    "                if self.dic[temp]==1:\n",
    "                    self.s+=temp\n",
    "                else:\n",
    "                    for j in self.dic.keys():\n",
    "                        if self.dic[j]==1:\n",
    "                            temp=j\n",
    "                            break\n",
    "                    if temp==i:temp='#'\n",
    "                    self.s+=temp\n",
    "                        "
   ]
  },
  {
   "cell_type": "code",
   "execution_count": 21,
   "metadata": {},
   "outputs": [
    {
     "name": "stdout",
     "output_type": "stream",
     "text": [
      "ggg#ll\n"
     ]
    }
   ],
   "source": [
    "s=Solution()\n",
    "s.Insert('google')\n",
    "print(s.FirstAppearingOnce())"
   ]
  }
 ],
 "metadata": {
  "kernelspec": {
   "display_name": "Python 3",
   "language": "python",
   "name": "python3"
  },
  "language_info": {
   "codemirror_mode": {
    "name": "ipython",
    "version": 3
   },
   "file_extension": ".py",
   "mimetype": "text/x-python",
   "name": "python",
   "nbconvert_exporter": "python",
   "pygments_lexer": "ipython3",
   "version": "3.6.3"
  }
 },
 "nbformat": 4,
 "nbformat_minor": 2
}
