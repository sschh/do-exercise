{
 "cells": [
  {
   "cell_type": "code",
   "execution_count": 42,
   "metadata": {},
   "outputs": [],
   "source": [
    "# -*- coding:utf-8 -*-\n",
    "class Solution:\n",
    "    # s, pattern都是字符串\n",
    "    def match(self, s, pattern):\n",
    "        if pattern=='' and s=='':return True\n",
    "        if pattern=='' and s!='':return False\n",
    "        if len(pattern)==1:\n",
    "            if len(s)==1 and (pattern[0]==s[0] or pattern[0]=='.'):\n",
    "                return True\n",
    "            else:\n",
    "                return False\n",
    "        if len(s)==1:\n",
    "            if len(pattern)==1 and (pattern[0]==s[0] or pattern[0]=='.'):\n",
    "                return True\n",
    "            elif len(pattern)>1:\n",
    "                if pattern[1]=='*':\n",
    "                    if pattern[0]==s[0] or pattern[0]=='.':\n",
    "                        return self.match('',pattern[2:]) or self.match(s,pattern[2:])\n",
    "                    else:\n",
    "                        return self.match(s,pattern[2:]) \n",
    "                else:\n",
    "                    if pattern[0]==s[0] or pattern[0]=='.':\n",
    "                        return self.match('',pattern[1:])\n",
    "        if pattern[1]!='*':\n",
    "            if s!='' and (pattern[0]==s[0] or pattern[0]=='.'):\n",
    "                return self.match(s[1:],pattern[1:])\n",
    "            else:\n",
    "                return False\n",
    "        else:\n",
    "             if s!=''and (pattern[0]==s[0] or pattern[0]=='.'):\n",
    "                return self.match(s[1:],pattern) or self.match(s[1:],pattern[1:]) or self.match(s,pattern[2:]) \n",
    "             else:\n",
    "                return self.match(s,pattern[2:])\n",
    "        \n",
    "        "
   ]
  },
  {
   "cell_type": "code",
   "execution_count": 46,
   "metadata": {},
   "outputs": [
    {
     "data": {
      "text/plain": [
       "True"
      ]
     },
     "execution_count": 46,
     "metadata": {},
     "output_type": "execute_result"
    }
   ],
   "source": [
    "s=Solution()\n",
    "s.match('aaa','aab*c*a')"
   ]
  },
  {
   "cell_type": "code",
   "execution_count": null,
   "metadata": {
    "collapsed": true
   },
   "outputs": [],
   "source": []
  }
 ],
 "metadata": {
  "kernelspec": {
   "display_name": "Python 3",
   "language": "python",
   "name": "python3"
  },
  "language_info": {
   "codemirror_mode": {
    "name": "ipython",
    "version": 3
   },
   "file_extension": ".py",
   "mimetype": "text/x-python",
   "name": "python",
   "nbconvert_exporter": "python",
   "pygments_lexer": "ipython3",
   "version": "3.6.3"
  }
 },
 "nbformat": 4,
 "nbformat_minor": 2
}
