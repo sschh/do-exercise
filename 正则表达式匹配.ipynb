{
 "cells": [
  {
   "cell_type": "markdown",
   "metadata": {},
   "source": [
    "### 题目：请实现一个函数用来匹配包括'.'和'*'的正则表达式。模式中的字符'.'表示任意一个字符，\n",
    "### 而'*'表示它前面的字符可以出现任意次（包含0次）。 在本题中，匹配是指字符串的所有字符匹\n",
    "### 配整个模式。例如，字符串\"aaa\"与模式\"a.a\"和\"ab*ac*a\"匹配，但是与\"aa.a\"和\"ab*a\"均不匹配"
   ]
  },
  {
   "cell_type": "code",
   "execution_count": 42,
   "metadata": {
    "collapsed": true
   },
   "outputs": [],
   "source": [
    "#使用递归,注意边界,分类讨论（下一个是不是*）\n",
    "##下面注释来自评论区：\n",
    "'''\n",
    "当模式中的第二个字符是“*”时：\n",
    "如果字符串第一个字符跟模式第一个字符不匹配，则模式后移2个字符，继续匹配。如果字符串第一个字符跟模式第一个字符匹配，可以有3种匹配方式：\n",
    "1.模式后移2字符，相当于x*被忽略；\n",
    "2.字符串后移1字符，模式后移2字符，相当于x*匹配一位；\n",
    "3.字符串后移1字符，模式不变，即继续匹配字符下一位，相当于x*匹配多位；\n",
    "当模式中的第二个字符不是“*”时：\n",
    "如果字符串第一个字符和模式中的第一个字符相匹配，那么字符串和模式都后移一个字符，然后匹配剩余的部分。\n",
    "如果字符串第一个字符和模式中的第一个字符相不匹配，直接返回False。\n",
    "'''\n",
    "class Solution:\n",
    "    # s, pattern都是字符串\n",
    "    def match(self, s, pattern):\n",
    "        if pattern=='' and s=='':return True\n",
    "        if pattern=='' and s!='':return False\n",
    "        if len(pattern)==1:\n",
    "            if len(s)==1 and (pattern[0]==s[0] or pattern[0]=='.'):\n",
    "                return True\n",
    "            else:\n",
    "                return False\n",
    "        if len(s)==1:\n",
    "            if len(pattern)==1 and (pattern[0]==s[0] or pattern[0]=='.'):\n",
    "                return True\n",
    "            elif len(pattern)>1:\n",
    "                if pattern[1]=='*':\n",
    "                    if pattern[0]==s[0] or pattern[0]=='.':\n",
    "                        return self.match('',pattern[2:]) or self.match(s,pattern[2:])\n",
    "                    else:\n",
    "                        return self.match(s,pattern[2:]) \n",
    "                else:\n",
    "                    if pattern[0]==s[0] or pattern[0]=='.':\n",
    "                        return self.match('',pattern[1:])\n",
    "        if pattern[1]!='*':\n",
    "            if s!='' and (pattern[0]==s[0] or pattern[0]=='.'):\n",
    "                return self.match(s[1:],pattern[1:])\n",
    "            else:\n",
    "                return False\n",
    "        else:\n",
    "             if s!=''and (pattern[0]==s[0] or pattern[0]=='.'):\n",
    "                return self.match(s[1:],pattern) or self.match(s[1:],pattern[1:]) or self.match(s,pattern[2:]) \n",
    "             else:\n",
    "                return self.match(s,pattern[2:])\n",
    "        \n",
    "        "
   ]
  },
  {
   "cell_type": "code",
   "execution_count": 1,
   "metadata": {
    "collapsed": true
   },
   "outputs": [],
   "source": [
    "#使用re模块的答案\n",
    "import re\n",
    "class Solution:\n",
    "    def match(self, s, pattern):\n",
    "        return True if re.match(\"(?:\" + pattern + r\")\\Z\", s) else False"
   ]
  }
 ],
 "metadata": {
  "kernelspec": {
   "display_name": "Python 3",
   "language": "python",
   "name": "python3"
  },
  "language_info": {
   "codemirror_mode": {
    "name": "ipython",
    "version": 3
   },
   "file_extension": ".py",
   "mimetype": "text/x-python",
   "name": "python",
   "nbconvert_exporter": "python",
   "pygments_lexer": "ipython3",
   "version": "3.6.3"
  }
 },
 "nbformat": 4,
 "nbformat_minor": 2
}
