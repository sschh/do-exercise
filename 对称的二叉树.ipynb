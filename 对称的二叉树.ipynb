{
 "cells": [
  {
   "cell_type": "markdown",
   "metadata": {},
   "source": [
    "### 题目：请实现一个函数，用来判断一颗二叉树是不是对称的。注意，如果一个二叉树同此二叉树的镜像是同样的，定义其为对称的。"
   ]
  },
  {
   "cell_type": "code",
   "execution_count": 7,
   "metadata": {
    "collapsed": true
   },
   "outputs": [],
   "source": [
    "#class TreeNode:\n",
    "#     def __init__(self, x):\n",
    "#        self.val = x\n",
    "#        self.left = None\n",
    "#        self.right = None\n",
    "\n",
    "#递归\n",
    "class Solution:\n",
    "    def isSymmetrical(self, pRoot):\n",
    "        #考虑根节点是否为空\n",
    "        return pRoot==None or self.isequal(pRoot.left,pRoot.right)\n",
    "    def isequal(self,left,right):\n",
    "        #若左右节点都存在且相等\n",
    "        if left and right and left.val==right.val:\n",
    "            #递归分别判断左左节点和右右节点，左右节点和右左节点\n",
    "            return self.isequal(left.left,right.right) and self.isequal(left.right,right.left)\n",
    "        #若左右节点都不存在\n",
    "        elif not left and not right:\n",
    "            return True\n",
    "        else:\n",
    "            return False"
   ]
  }
 ],
 "metadata": {
  "kernelspec": {
   "display_name": "Python 3",
   "language": "python",
   "name": "python3"
  },
  "language_info": {
   "codemirror_mode": {
    "name": "ipython",
    "version": 3
   },
   "file_extension": ".py",
   "mimetype": "text/x-python",
   "name": "python",
   "nbconvert_exporter": "python",
   "pygments_lexer": "ipython3",
   "version": "3.6.3"
  }
 },
 "nbformat": 4,
 "nbformat_minor": 2
}
