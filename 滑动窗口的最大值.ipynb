{
 "cells": [
  {
   "cell_type": "code",
   "execution_count": 16,
   "metadata": {
    "collapsed": true
   },
   "outputs": [],
   "source": [
    "# -*- coding:utf-8 -*-\n",
    "class Solution:\n",
    "    def maxInWindows(self, num, size):\n",
    "        if not num or size<=0:return []\n",
    "        length=len(num)\n",
    "        if length<size:return []# write code here\n",
    "        j=1\n",
    "        index=0\n",
    "        result=[]\n",
    "        for i in range(length-size+1):\n",
    "            if index==0:\n",
    "                maxnum,index=self.maxsearch(num[i:i+size])\n",
    "            else:\n",
    "                if num[i+index-1]<num[i+size-1]:\n",
    "                    maxnum=num[i+size-1]\n",
    "                    index=size-1\n",
    "                else:\n",
    "                    index-=1\n",
    "            result.append(maxnum)\n",
    "        return result\n",
    "    def maxsearch(self,num):\n",
    "        result=num[0]\n",
    "        length=len(num)\n",
    "        for i in range(length):\n",
    "            if num[i]>=result:\n",
    "                result=num[i]\n",
    "                temp=i\n",
    "        return result,temp"
   ]
  },
  {
   "cell_type": "code",
   "execution_count": 17,
   "metadata": {},
   "outputs": [
    {
     "data": {
      "text/plain": [
       "[4, 4, 6, 6, 6, 5]"
      ]
     },
     "execution_count": 17,
     "metadata": {},
     "output_type": "execute_result"
    }
   ],
   "source": [
    "s=Solution()\n",
    "s.maxInWindows([2,3,4,2,6,2,5,1],3)"
   ]
  }
 ],
 "metadata": {
  "kernelspec": {
   "display_name": "Python 3",
   "language": "python",
   "name": "python3"
  },
  "language_info": {
   "codemirror_mode": {
    "name": "ipython",
    "version": 3
   },
   "file_extension": ".py",
   "mimetype": "text/x-python",
   "name": "python",
   "nbconvert_exporter": "python",
   "pygments_lexer": "ipython3",
   "version": "3.6.3"
  }
 },
 "nbformat": 4,
 "nbformat_minor": 2
}
