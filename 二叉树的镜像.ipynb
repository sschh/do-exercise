{
 "cells": [
  {
   "cell_type": "code",
   "execution_count": 11,
   "metadata": {
    "collapsed": true
   },
   "outputs": [],
   "source": [
    "# -*- coding:utf-8 -*-\n",
    "class TreeNode:\n",
    "     def __init__(self, x):\n",
    "            self.val = x\n",
    "            self.left = None\n",
    "            self.right = None\n",
    "class Solution:\n",
    "    # 返回镜像树的根节点\n",
    "    def Mirror(self, root):\n",
    "        if not root:\n",
    "            return None\n",
    "        return self.mirror(root)\n",
    "        \n",
    "    def mirror(self,p):\n",
    "        if p:\n",
    "            p.left,p.right=p.right,p.left\n",
    "            return self.mirror(p.left) and self.mirror(self.right)"
   ]
  },
  {
   "cell_type": "code",
   "execution_count": 12,
   "metadata": {},
   "outputs": [
    {
     "data": {
      "text/plain": [
       "3"
      ]
     },
     "execution_count": 12,
     "metadata": {},
     "output_type": "execute_result"
    }
   ],
   "source": [
    "x=TreeNode(1)\n",
    "y=TreeNode(2)\n",
    "z=TreeNode(3)\n",
    "o=TreeNode(4)\n",
    "p=TreeNode(5)\n",
    "zz=TreeNode(2)\n",
    "oo=TreeNode(4)\n",
    "pp=TreeNode(5)\n",
    "x.left=y\n",
    "x.right=z\n",
    "y.left=o\n",
    "y.right=p\n",
    "zz.left=oo\n",
    "zz.right=pp\n",
    "s=Solution()\n",
    "s.Mirror(x)\n",
    "x.left.val"
   ]
  },
  {
   "cell_type": "code",
   "execution_count": 4,
   "metadata": {},
   "outputs": [
    {
     "name": "stdout",
     "output_type": "stream",
     "text": [
      "2\n",
      "3\n"
     ]
    }
   ],
   "source": [
    "a=3\n",
    "b=2\n",
    "a,b=b,a\n",
    "print(a)\n",
    "print(b)"
   ]
  }
 ],
 "metadata": {
  "kernelspec": {
   "display_name": "Python 3",
   "language": "python",
   "name": "python3"
  },
  "language_info": {
   "codemirror_mode": {
    "name": "ipython",
    "version": 3
   },
   "file_extension": ".py",
   "mimetype": "text/x-python",
   "name": "python",
   "nbconvert_exporter": "python",
   "pygments_lexer": "ipython3",
   "version": "3.6.3"
  }
 },
 "nbformat": 4,
 "nbformat_minor": 2
}
