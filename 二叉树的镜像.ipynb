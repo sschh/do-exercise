{
 "cells": [
  {
   "cell_type": "code",
   "execution_count": 2,
   "metadata": {
    "collapsed": true
   },
   "outputs": [],
   "source": [
    "# -*- coding:utf-8 -*-\n",
    "class TreeNode:\n",
    "     def __init__(self, x):\n",
    "            self.val = x\n",
    "            self.left = None\n",
    "            self.right = None\n",
    "class Solution:\n",
    "    # 返回镜像树的根节点\n",
    "    def Mirror(self, root):\n",
    "        if not root:\n",
    "            return None\n",
    "        return self.mirror(root)\n",
    "        \n",
    "    def mirror(self,p):\n",
    "        if p:\n",
    "            p.left,p.right=p.right,p.left\n",
    "            return self.mirror(p.left) and self.mirror(self.right)"
   ]
  },
  {
   "cell_type": "code",
   "execution_count": 18,
   "metadata": {},
   "outputs": [],
   "source": [
    "a=TreeNode(1)\n",
    "b=TreeNode(2)\n",
    "c=TreeNode(3)\n",
    "d=TreeNode(4)\n",
    "e=TreeNode(5)\n",
    "a.left=b\n",
    "a.right=c\n",
    "b.left=d\n",
    "c.right=e"
   ]
  },
  {
   "cell_type": "code",
   "execution_count": 35,
   "metadata": {},
   "outputs": [],
   "source": [
    "def preorder(root,result):\n",
    "    if root:\n",
    "        result=result+str(root.val)+'!'\n",
    "        preorder(root.left,result)\n",
    "        preorder(root.right,result)\n",
    "    else:\n",
    "        result+='#!'"
   ]
  },
  {
   "cell_type": "code",
   "execution_count": 30,
   "metadata": {
    "collapsed": true
   },
   "outputs": [],
   "source": [
    "def Print(pRoot):\n",
    "    if not pRoot:return []\n",
    "    queue=[pRoot]\n",
    "    count=1\n",
    "    result=[]\n",
    "    tempresult=[]\n",
    "    while queue:\n",
    "        temp=queue.pop(0)\n",
    "        count-=1\n",
    "        if temp=='#':\n",
    "            tempresult.append('#')\n",
    "            queue+=['#','#']\n",
    "        else:\n",
    "            tempresult.append(temp.val)\n",
    "            if temp.left:\n",
    "                queue.append(temp.left)\n",
    "            else:\n",
    "                queue.append('#')\n",
    "            if temp.right:\n",
    "                queue.append(temp.right)\n",
    "            else:\n",
    "                queue.append('#')\n",
    "        if count==0: \n",
    "            if tempresult!='#'*len(tempresult):\n",
    "                result+=tempresult\n",
    "                count=len(queue)\n",
    "                tempresult=[]\n",
    "            else:\n",
    "                break\n",
    "    return result"
   ]
  },
  {
   "cell_type": "code",
   "execution_count": 39,
   "metadata": {},
   "outputs": [
    {
     "data": {
      "text/plain": [
       "''"
      ]
     },
     "execution_count": 39,
     "metadata": {},
     "output_type": "execute_result"
    }
   ],
   "source": [
    "result=''\n",
    "preorder(a,result)\n",
    "result"
   ]
  },
  {
   "cell_type": "code",
   "execution_count": null,
   "metadata": {
    "collapsed": true
   },
   "outputs": [],
   "source": []
  }
 ],
 "metadata": {
  "kernelspec": {
   "display_name": "Python 3",
   "language": "python",
   "name": "python3"
  },
  "language_info": {
   "codemirror_mode": {
    "name": "ipython",
    "version": 3
   },
   "file_extension": ".py",
   "mimetype": "text/x-python",
   "name": "python",
   "nbconvert_exporter": "python",
   "pygments_lexer": "ipython3",
   "version": "3.6.3"
  }
 },
 "nbformat": 4,
 "nbformat_minor": 2
}
