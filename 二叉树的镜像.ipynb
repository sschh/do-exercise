{
 "cells": [
  {
   "cell_type": "markdown",
   "metadata": {},
   "source": [
    "### 题目：操作给定的二叉树，将其变换为源二叉树的镜像。"
   ]
  },
  {
   "cell_type": "code",
   "execution_count": 2,
   "metadata": {
    "collapsed": true
   },
   "outputs": [],
   "source": [
    "#class TreeNode:\n",
    "#     def __init__(self, x):\n",
    "#            self.val = x\n",
    "#            self.left = None\n",
    "#            self.right = None\n",
    "\n",
    "#递归\n",
    "#互换左右子树，再互换左右节点，得到镜像\n",
    "class Solution:\n",
    "    # 返回镜像树的根节点\n",
    "    def Mirror(self, root):\n",
    "        if not root:\n",
    "            return None\n",
    "        return self.mirror(root)\n",
    "        \n",
    "    def mirror(self,p):\n",
    "        if p:\n",
    "            #互换左右子树，左右子树下的所有节点都跟随两个根节点换位置了，但是和各自的根节点的相对位置未变\n",
    "            p.left,p.right=p.right,p.left\n",
    "            #通过判断，减少递归次数，减少时空资源\n",
    "            if p.left:self.mirror(p.left)\n",
    "            if p.right:self.mirror(p.right)"
   ]
  }
 ],
 "metadata": {
  "kernelspec": {
   "display_name": "Python 3",
   "language": "python",
   "name": "python3"
  },
  "language_info": {
   "codemirror_mode": {
    "name": "ipython",
    "version": 3
   },
   "file_extension": ".py",
   "mimetype": "text/x-python",
   "name": "python",
   "nbconvert_exporter": "python",
   "pygments_lexer": "ipython3",
   "version": "3.6.3"
  }
 },
 "nbformat": 4,
 "nbformat_minor": 2
}
