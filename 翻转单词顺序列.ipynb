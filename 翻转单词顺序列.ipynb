{
 "cells": [
  {
   "cell_type": "code",
   "execution_count": 13,
   "metadata": {
    "collapsed": true
   },
   "outputs": [],
   "source": [
    "# -*- coding:utf-8 -*-\n",
    "class Solution:\n",
    "    def ReverseSentence(self, s):\n",
    "        if s=='':return ''\n",
    "        begin=0\n",
    "        ss=list(s)\n",
    "        for i in range(len(ss)):\n",
    "            if ss[i]==' ':\n",
    "                temp=ss[begin:i]\n",
    "                temp=temp[::-1]\n",
    "                ss[begin:i]=temp\n",
    "                begin=i+1\n",
    "            elif i==len(ss)-1:\n",
    "                temp=ss[begin:]\n",
    "                temp=temp[::-1]\n",
    "                ss[begin:]=temp\n",
    "        return \"\".join(ss[::-1])"
   ]
  },
  {
   "cell_type": "code",
   "execution_count": 14,
   "metadata": {},
   "outputs": [
    {
     "data": {
      "text/plain": [
       "'I am a student.'"
      ]
     },
     "execution_count": 14,
     "metadata": {},
     "output_type": "execute_result"
    }
   ],
   "source": [
    "s=Solution()\n",
    "s.ReverseSentence('student. a am I')"
   ]
  },
  {
   "cell_type": "code",
   "execution_count": null,
   "metadata": {
    "collapsed": true
   },
   "outputs": [],
   "source": []
  }
 ],
 "metadata": {
  "kernelspec": {
   "display_name": "Python 3",
   "language": "python",
   "name": "python3"
  },
  "language_info": {
   "codemirror_mode": {
    "name": "ipython",
    "version": 3
   },
   "file_extension": ".py",
   "mimetype": "text/x-python",
   "name": "python",
   "nbconvert_exporter": "python",
   "pygments_lexer": "ipython3",
   "version": "3.6.3"
  }
 },
 "nbformat": 4,
 "nbformat_minor": 2
}
