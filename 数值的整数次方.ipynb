{
 "cells": [
  {
   "cell_type": "markdown",
   "metadata": {},
   "source": [
    "### 分类讨论，然后二分后递归， O(logn)"
   ]
  },
  {
   "cell_type": "code",
   "execution_count": 33,
   "metadata": {},
   "outputs": [],
   "source": [
    "# -*- coding:utf-8 -*-\n",
    "class Solution:\n",
    "    def Power(self, base, exponent):\n",
    "        if base>=-1e-10 and base<=1e-10:\n",
    "            if exponent<=0:\n",
    "                return None\n",
    "            else:\n",
    "                return 0.00\n",
    "        else:\n",
    "            flag=0\n",
    "            if exponent==0:\n",
    "                return 1\n",
    "            elif exponent<0:\n",
    "                exponent=(-1)*exponent\n",
    "                flag=1\n",
    "            if exponent%2==0:\n",
    "                result=self.Power(base,exponent/2)*self.Power(base,exponent/2) \n",
    "            else:\n",
    "                result=self.Power(base,exponent//2)*self.Power(base,exponent//2)*base\n",
    "            if flag==1:\n",
    "                result=1/result\n",
    "            return result"
   ]
  },
  {
   "cell_type": "code",
   "execution_count": 36,
   "metadata": {},
   "outputs": [
    {
     "data": {
      "text/plain": [
       "0.1836739941702207"
      ]
     },
     "execution_count": 36,
     "metadata": {},
     "output_type": "execute_result"
    }
   ],
   "source": [
    "s=Solution()\n",
    "s.Power(2.33333,-2)"
   ]
  }
 ],
 "metadata": {
  "kernelspec": {
   "display_name": "Python 3",
   "language": "python",
   "name": "python3"
  },
  "language_info": {
   "codemirror_mode": {
    "name": "ipython",
    "version": 3
   },
   "file_extension": ".py",
   "mimetype": "text/x-python",
   "name": "python",
   "nbconvert_exporter": "python",
   "pygments_lexer": "ipython3",
   "version": "3.6.3"
  }
 },
 "nbformat": 4,
 "nbformat_minor": 2
}
