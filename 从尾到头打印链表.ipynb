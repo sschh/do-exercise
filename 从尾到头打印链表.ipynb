{
 "cells": [
  {
   "cell_type": "markdown",
   "metadata": {},
   "source": [
    "### 题目：输入一个链表，按链表从尾到头的顺序返回一个ArrayList。"
   ]
  },
  {
   "cell_type": "code",
   "execution_count": 1,
   "metadata": {
    "collapsed": true
   },
   "outputs": [],
   "source": [
    "#class ListNode:\n",
    "#     def __init__(self, x):\n",
    "#        self.val = x\n",
    "#        self.next = None\n",
    "\n",
    "\n",
    "#将节点值存入一个列表，然后倒序输出\n",
    "#使用栈也可以\n",
    "class Solution:\n",
    "    # 返回从尾部到头部的列表值序列，例如[1,2,3]\n",
    "    def printListFromTailToHead(self, listNode):\n",
    "        s=[]\n",
    "        if listNode:\n",
    "            while(listNode.next):\n",
    "                s.append(listNode.val)\n",
    "                listNode=listNode.next\n",
    "            s.append(listNode.val)\n",
    "        return s[::-1]"
   ]
  },
  {
   "cell_type": "code",
   "execution_count": null,
   "metadata": {
    "collapsed": true
   },
   "outputs": [],
   "source": [
    "#使用递归（内存占用比上面方法多）\n",
    "#将先得到的节点值放后面\n",
    "#list可以直接相加，拼起来\n",
    "class Solution:\n",
    "    def printListFromTailToHead(self, listNode):\n",
    "        if not listNode:return []\n",
    "        return self.printListFromTailToHead(listNode.next)+[listNode.val]"
   ]
  }
 ],
 "metadata": {
  "kernelspec": {
   "display_name": "Python 3",
   "language": "python",
   "name": "python3"
  },
  "language_info": {
   "codemirror_mode": {
    "name": "ipython",
    "version": 3
   },
   "file_extension": ".py",
   "mimetype": "text/x-python",
   "name": "python",
   "nbconvert_exporter": "python",
   "pygments_lexer": "ipython3",
   "version": "3.6.3"
  }
 },
 "nbformat": 4,
 "nbformat_minor": 2
}
