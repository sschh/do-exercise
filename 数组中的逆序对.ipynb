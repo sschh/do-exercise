{
 "cells": [
  {
   "cell_type": "code",
   "execution_count": 47,
   "metadata": {
    "collapsed": true
   },
   "outputs": [],
   "source": [
    "\n",
    "# -*- coding:utf-8 -*-\n",
    "class Solution:\n",
    "    def InversePairs(self,data):\n",
    "        if len(data)<=1:\n",
    "            return 0\n",
    "        num,data=self.mergesort(data)\n",
    "        return num,data\n",
    "    \n",
    "    def mergesort(self,num):\n",
    "        result=0\n",
    "        if len(num)<=1:\n",
    "            return 0,num\n",
    "        else:\n",
    "            mid=len(num)//2\n",
    "            leftresult,left=self.mergesort(num[:mid])\n",
    "            rightresult,right=self.mergesort(num[mid:])\n",
    "            result,out=self.merge(num,left,right)\n",
    "            return result+leftresult+rightresult,out\n",
    "        \n",
    "    def merge(self,num,left1,right1):\n",
    "        i=j=k=0\n",
    "        result=0\n",
    "        while i<len(left1) and j<len(right1):\n",
    "            if left1[i]>right1[j]:\n",
    "                num[k]=right1[j]\n",
    "                result+=(len(left1)-i)\n",
    "                j+=1\n",
    "                k+=1\n",
    "            else:\n",
    "                num[k]=left1[i]\n",
    "                i+=1\n",
    "                k+=1\n",
    "        num[k:]=left1[i:]+right1[j:]\n",
    "        return result,num"
   ]
  },
  {
   "cell_type": "code",
   "execution_count": 48,
   "metadata": {},
   "outputs": [
    {
     "data": {
      "text/plain": [
       "(7, [0, 1, 2, 3, 4, 5, 6, 7])"
      ]
     },
     "execution_count": 48,
     "metadata": {},
     "output_type": "execute_result"
    }
   ],
   "source": [
    "s=Solution()\n",
    "s.InversePairs([1,2,3,4,5,6,7,0])"
   ]
  },
  {
   "cell_type": "code",
   "execution_count": 45,
   "metadata": {
    "collapsed": true
   },
   "outputs": [],
   "source": [
    "def InversePairs(self, data):\n",
    "    # write code here\n",
    "    if len(data) == 0:\n",
    "        return 0\n",
    " \n",
    "    def mergeSort(data, begin, end):\n",
    "        if begin == end - 1:\n",
    "            return 0\n",
    "        mid = int((begin + end) / 2)\n",
    "        left_count = mergeSort(data, begin, mid)\n",
    "        right_count = mergeSort(data, mid, end)\n",
    "        merge_count = merge(data, begin, mid, end)\n",
    "        return left_count + right_count + merge_count\n",
    " \n",
    "    def merge(data, begin, mid, end):\n",
    "        i = begin\n",
    "        j = mid\n",
    "        count = 0\n",
    "        temp = []\n",
    "        while i < mid and j < end:\n",
    "            if data[i] <= data[j]:\n",
    "                temp.append(data[i])\n",
    "                i += 1\n",
    "            else:\n",
    "                temp.append(data[j])\n",
    "                j += 1\n",
    "                count += mid - i\n",
    "        while i < mid:\n",
    "            temp.append(data[i])\n",
    "            i += 1\n",
    "        while j < end:\n",
    "            temp.append(data[j])\n",
    "            j += 1\n",
    "        data[begin: end] = temp\n",
    "        del temp\n",
    "        return count\n",
    " \n",
    "    begin = 0\n",
    "    end = len(data)\n",
    "    ans = mergeSort(data, begin, end)\n",
    "    return ans % 1000000007"
   ]
  },
  {
   "cell_type": "code",
   "execution_count": 22,
   "metadata": {},
   "outputs": [
    {
     "ename": "TypeError",
     "evalue": "object of type 'int' has no len()",
     "output_type": "error",
     "traceback": [
      "\u001b[1;31m---------------------------------------------------------------------------\u001b[0m",
      "\u001b[1;31mTypeError\u001b[0m                                 Traceback (most recent call last)",
      "\u001b[1;32m<ipython-input-22-2ee152b37ac7>\u001b[0m in \u001b[0;36m<module>\u001b[1;34m()\u001b[0m\n\u001b[1;32m----> 1\u001b[1;33m \u001b[0mlen\u001b[0m\u001b[1;33m(\u001b[0m\u001b[1;36m15\u001b[0m\u001b[1;33m)\u001b[0m\u001b[1;33m\u001b[0m\u001b[0m\n\u001b[0m",
      "\u001b[1;31mTypeError\u001b[0m: object of type 'int' has no len()"
     ]
    }
   ],
   "source": [
    "len(15)"
   ]
  },
  {
   "cell_type": "code",
   "execution_count": 31,
   "metadata": {},
   "outputs": [
    {
     "data": {
      "text/plain": [
       "[1, 2, 3, 4]"
      ]
     },
     "execution_count": 31,
     "metadata": {},
     "output_type": "execute_result"
    }
   ],
   "source": [
    "[1,2]+[3,4]"
   ]
  },
  {
   "cell_type": "code",
   "execution_count": null,
   "metadata": {
    "collapsed": true
   },
   "outputs": [],
   "source": []
  }
 ],
 "metadata": {
  "kernelspec": {
   "display_name": "Python 3",
   "language": "python",
   "name": "python3"
  },
  "language_info": {
   "codemirror_mode": {
    "name": "ipython",
    "version": 3
   },
   "file_extension": ".py",
   "mimetype": "text/x-python",
   "name": "python",
   "nbconvert_exporter": "python",
   "pygments_lexer": "ipython3",
   "version": "3.6.3"
  }
 },
 "nbformat": 4,
 "nbformat_minor": 2
}
