{
 "cells": [
  {
   "cell_type": "code",
   "execution_count": 11,
   "metadata": {},
   "outputs": [],
   "source": [
    "#将当天时刻最小元素放入另一个栈中，两个栈大小一致\n",
    "class Solution:\n",
    "    def __init__(self):\n",
    "        self.item=[]\n",
    "        self.minn=[]\n",
    "    def push(self, node):\n",
    "        self.item.append(node)\n",
    "        if self.minn!=[]:\n",
    "            if self.min()<node:\n",
    "                self.minn.append(self.min())\n",
    "            else:\n",
    "                self.minn.append(node)\n",
    "            return 0\n",
    "        self.minn.append(node)\n",
    "    def pop(self):\n",
    "        if self.item==[]:\n",
    "            return None\n",
    "        temp=self.item.pop()\n",
    "        self.minn.pop() \n",
    "        return temp\n",
    "    def top(self):\n",
    "        if self.item==[]:\n",
    "            return None\n",
    "        return self.item[len(self.item)-1]\n",
    "    def min(self):\n",
    "        if self.minn==[]:\n",
    "            return None\n",
    "        return self.minn[len(self.minn)-1]"
   ]
  },
  {
   "cell_type": "code",
   "execution_count": 19,
   "metadata": {},
   "outputs": [
    {
     "data": {
      "text/plain": [
       "1"
      ]
     },
     "execution_count": 19,
     "metadata": {},
     "output_type": "execute_result"
    }
   ],
   "source": [
    "s=Solution()\n",
    "s.push(1)\n",
    "s.push(2)\n",
    "s.push(-1)\n",
    "s.push(3)\n",
    "s.pop()\n",
    "s.pop()\n",
    "s.min()\n"
   ]
  },
  {
   "cell_type": "code",
   "execution_count": null,
   "metadata": {
    "collapsed": true
   },
   "outputs": [],
   "source": []
  }
 ],
 "metadata": {
  "kernelspec": {
   "display_name": "Python 3",
   "language": "python",
   "name": "python3"
  },
  "language_info": {
   "codemirror_mode": {
    "name": "ipython",
    "version": 3
   },
   "file_extension": ".py",
   "mimetype": "text/x-python",
   "name": "python",
   "nbconvert_exporter": "python",
   "pygments_lexer": "ipython3",
   "version": "3.6.3"
  }
 },
 "nbformat": 4,
 "nbformat_minor": 2
}
