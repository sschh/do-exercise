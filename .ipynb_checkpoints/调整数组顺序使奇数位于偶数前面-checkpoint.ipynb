{
 "cells": [
  {
   "cell_type": "code",
   "execution_count": 12,
   "metadata": {},
   "outputs": [],
   "source": [
    "# -*- coding:utf-8 -*-\n",
    "class Solution:\n",
    "    def reOrderArray(self, array):\n",
    "        if array==[]:\n",
    "            return []\n",
    "        spoint=0\n",
    "        dpoint=1\n",
    "        for i in range(len(array)):\n",
    "            if array[i]%2==1:\n",
    "                for j in range(i,spoint,-1):\n",
    "                    array[j],array[j-1]=array[j-1],array[j]\n",
    "                spoint+=1\n",
    "                dpoint+=1\n",
    "            else:\n",
    "                for j in range(i,dpoint,-1):\n",
    "                    array[j],array[j-1]=array[j-1],array[j]\n",
    "                dpoint+=1\n",
    "        return array"
   ]
  },
  {
   "cell_type": "code",
   "execution_count": 16,
   "metadata": {},
   "outputs": [
    {
     "data": {
      "text/plain": [
       "[3, 3, 5, 7, 9, 10, 4, 6, 8]"
      ]
     },
     "execution_count": 16,
     "metadata": {},
     "output_type": "execute_result"
    }
   ],
   "source": [
    "s=Solution()\n",
    "s.reOrderArray([10,3,3,4,5,6,7,8,9])"
   ]
  }
 ],
 "metadata": {
  "kernelspec": {
   "display_name": "Python 3",
   "language": "python",
   "name": "python3"
  },
  "language_info": {
   "codemirror_mode": {
    "name": "ipython",
    "version": 3
   },
   "file_extension": ".py",
   "mimetype": "text/x-python",
   "name": "python",
   "nbconvert_exporter": "python",
   "pygments_lexer": "ipython3",
   "version": "3.6.3"
  }
 },
 "nbformat": 4,
 "nbformat_minor": 2
}
