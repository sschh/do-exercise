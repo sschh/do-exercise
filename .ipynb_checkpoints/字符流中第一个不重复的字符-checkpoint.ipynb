{
 "cells": [
  {
   "cell_type": "code",
   "execution_count": 3,
   "metadata": {
    "collapsed": true
   },
   "outputs": [],
   "source": [
    "# -*- coding:utf-8 -*-\n",
    "class Solution:\n",
    "    # 返回对应char\n",
    "    def __init__(self):\n",
    "        self.dic={}\n",
    "        self.s=''\n",
    "    def FirstAppearingOnce(self):\n",
    "        if self.char!='':\n",
    "            temp='#'\n",
    "            for i in self.char:\n",
    "                if i in self.dic.keys():\n",
    "                    self.dic[i]+=1\n",
    "                else:\n",
    "                    self.dic[i]=1\n",
    "                    if temp=='#':temp=i\n",
    "                if self.dic[temp]==1:\n",
    "                    self.s+=temp\n",
    "                else:\n",
    "                    for j in self.dic.keys():\n",
    "                        if self.dic[j]==1:\n",
    "                            temp=j\n",
    "                            break\n",
    "                    if temp==i:temp='#'\n",
    "                    self.s+=temp\n",
    "        return self.s\n",
    "    def Insert(self,char):\n",
    "        if char in self.dic.keys():\n",
    "            self.dic[i]+=1\n",
    "        else:\n",
    "            self.dic[i]=1                    "
   ]
  },
  {
   "cell_type": "code",
   "execution_count": 4,
   "metadata": {},
   "outputs": [
    {
     "name": "stdout",
     "output_type": "stream",
     "text": [
      "ggg#ll\n"
     ]
    }
   ],
   "source": [
    "s=Solution()\n",
    "s.Insert('google')\n",
    "print(s.FirstAppearingOnce())"
   ]
  },
  {
   "cell_type": "code",
   "execution_count": null,
   "metadata": {
    "collapsed": true
   },
   "outputs": [],
   "source": [
    "# -*- coding:utf-8 -*-\n",
    "class Solution:\n",
    "    # 返回对应char\n",
    "    def __init__(self):\n",
    "        self.dic={}\n",
    "        self.s=''\n",
    "    def FirstAppearingOnce(self):\n",
    "        return self.s\n",
    "    def Insert(self,char):\n",
    "        if char!='':\n",
    "            temp='#'\n",
    "            for i in char:\n",
    "                if i in self.dic.keys():\n",
    "                    self.dic[i]+=1\n",
    "                else:\n",
    "                    self.dic[i]=1\n",
    "                    if temp=='#':temp=i\n",
    "                if self.dic[temp]==1:\n",
    "                    self.s+=temp\n",
    "                else:\n",
    "                    for j in self.dic.keys():\n",
    "                        if self.dic[j]==1:\n",
    "                            temp=j\n",
    "                            break\n",
    "                    if temp==i:temp='#'\n",
    "                    self.s+=temp\n",
    "                        "
   ]
  },
  {
   "cell_type": "code",
   "execution_count": null,
   "metadata": {
    "collapsed": true
   },
   "outputs": [],
   "source": [
    "#评论中的答案\n",
    "class Solution:\n",
    "    def __init__(self):\n",
    "        self.char_list = [-1 for i in range(256)]\n",
    "        self.index = 0  # 记录当前字符的个数，可以理解为输入的字符串中的下标\n",
    "    def FirstAppearingOnce(self):\n",
    "        # write code here\n",
    "        min_value = 500\n",
    "        min_idx = -1\n",
    "        for i in range(256):\n",
    "            if self.char_list[i] > -1:\n",
    "                if self.char_list[i] < min_value:\n",
    "                    min_value = self.char_list[i]\n",
    "                    min_idx = i\n",
    "        if min_idx > -1:\n",
    "            return chr(min_idx)\n",
    "        else:\n",
    "            return '#'\n",
    "    def Insert(self, char):\n",
    "        # 如果是第一出现，则将对应元素的值改为下边\n",
    "        if self.char_list[ord(char)] == -1:\n",
    "            self.char_list[ord(char)] = self.index\n",
    "        # 如果已经出现过两次了，则不修改\n",
    "        elif self.char_list[ord(char)] == -2:\n",
    "            pass\n",
    "        # 如果出现过一次，则进行修改，修改为-2\n",
    "        else:\n",
    "            self.char_list[ord(char)] = -2\n",
    "        self.index += 1"
   ]
  }
 ],
 "metadata": {
  "kernelspec": {
   "display_name": "Python 3",
   "language": "python",
   "name": "python3"
  },
  "language_info": {
   "codemirror_mode": {
    "name": "ipython",
    "version": 3
   },
   "file_extension": ".py",
   "mimetype": "text/x-python",
   "name": "python",
   "nbconvert_exporter": "python",
   "pygments_lexer": "ipython3",
   "version": "3.6.3"
  }
 },
 "nbformat": 4,
 "nbformat_minor": 2
}
