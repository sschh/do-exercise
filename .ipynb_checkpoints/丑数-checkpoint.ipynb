{
 "cells": [
  {
   "cell_type": "markdown",
   "metadata": {},
   "source": [
    "### 题目：把只包含质因子2、3和5的数称作丑数（Ugly Number）。例如6、8都是丑数，但14不是，因为它包含质因子7。 习惯上我们把1当做是第一个丑数。求按从小到大的顺序的第N个丑数。"
   ]
  },
  {
   "cell_type": "code",
   "execution_count": 7,
   "metadata": {
    "collapsed": true
   },
   "outputs": [],
   "source": [
    "#丑数的因子只有2,3,5，那么丑数 num= 2 ^ x * 3 ^ y * 5 ^ z，\n",
    "#即：一个丑数一定由另一个丑数乘以2或者乘以3或者乘以5得到\n",
    "#a[-1]:返回a列表最后一个元素，-2是倒数第二个，以此类推\n",
    "class Solution:\n",
    "    def GetUglyNumber_Solution(self, index):\n",
    "        if index<=0:\n",
    "            return ''\n",
    "        ugly=[1]\n",
    "        p1=0\n",
    "        p2=0\n",
    "        p3=0\n",
    "        for i in range(index-1):\n",
    "            #找三个中最小的加入\n",
    "            ugly.append(min(ugly[p1]*2,ugly[p2]*3,ugly[p3]*5))\n",
    "            if ugly[-1]>=ugly[p1]*2:\n",
    "                p1+=1\n",
    "            if ugly[-1]>=ugly[p2]*3:\n",
    "                p2+=1\n",
    "            if ugly[-1]>=ugly[p3]*5:\n",
    "                p3+=1\n",
    "        return ugly[-1]"
   ]
  },
  {
   "cell_type": "code",
   "execution_count": null,
   "metadata": {
    "collapsed": true
   },
   "outputs": [],
   "source": [
    "s=Solution()\n",
    "for index in range(15):\n",
    "    print (s.GetUglyNumber_Solution(index))"
   ]
  }
 ],
 "metadata": {
  "kernelspec": {
   "display_name": "Python 3",
   "language": "python",
   "name": "python3"
  },
  "language_info": {
   "codemirror_mode": {
    "name": "ipython",
    "version": 3
   },
   "file_extension": ".py",
   "mimetype": "text/x-python",
   "name": "python",
   "nbconvert_exporter": "python",
   "pygments_lexer": "ipython3",
   "version": "3.6.3"
  }
 },
 "nbformat": 4,
 "nbformat_minor": 2
}
