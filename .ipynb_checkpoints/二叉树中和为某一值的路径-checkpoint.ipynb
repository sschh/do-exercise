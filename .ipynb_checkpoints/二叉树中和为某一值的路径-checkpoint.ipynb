{
 "cells": [
  {
   "cell_type": "markdown",
   "metadata": {},
   "source": [
    "### 题目：输入一颗二叉树的根节点和一个整数，打印出二叉树中结点值的和为输入整数的所有路径。路径定义为从树的根结点开始往下一直到叶结点所经过的结点形成一条路径。(注意: 在返回值的list中，数组长度大的数组靠前)"
   ]
  },
  {
   "cell_type": "code",
   "execution_count": 11,
   "metadata": {
    "collapsed": true
   },
   "outputs": [],
   "source": [
    "#class TreeNode:\n",
    "#    def __init__(self, x):\n",
    "#        self.val = x\n",
    "#        self.left = None\n",
    "#        self.right = None\n",
    "\n",
    "#队列\n",
    "#非递归\n",
    "#层序遍历节点，分别记录节点和从根节点到达当前节点的路径值\n",
    "#然后遍历分数，若满足且是叶节点，根据索引回溯到根节点，记录路径，最后对当前路径倒序\n",
    "#对存储路径的list倒序，因为短路径会被先找到\n",
    "\n",
    "class Solution:\n",
    "    # 返回二维列表，内部每个列表表示找到的路径\n",
    "    def FindPath(self, root, expectNumber):\n",
    "        if root==None:\n",
    "            return []\n",
    "        #存储节点，从上到下，从左到右\n",
    "        buffer=[root]\n",
    "        #存储每个节点到根节点的路径值\n",
    "        score=[root.val]\n",
    "        out=[]\n",
    "        for node in buffer:\n",
    "            #若存在左子节点\n",
    "            if node.left:\n",
    "                #加入缓存队列\n",
    "                buffer.append(node.left)\n",
    "                #左子节点分数+当前节点分数\n",
    "                score.append(node.left.val+score[buffer.index(node)])\n",
    "             #若存在右子节点\n",
    "            if node.right:\n",
    "                buffer.append(node.right)\n",
    "                score.append(node.right.val+score[buffer.index(node)])\n",
    "        for i in range(len(score)):\n",
    "            #若节点路径值满足条件且为叶节点\n",
    "            if score[i]==expectNumber and buffer[i].left==None and buffer[i].right==None:\n",
    "                #temp存储当前路径\n",
    "                temp=[buffer[i].val]\n",
    "                j=i\n",
    "                while score[j]-buffer[j].val!=0:\n",
    "                    j=score.index(score[j]-buffer[j].val)\n",
    "                    temp.append(buffer[j].val)\n",
    "                out.append(temp[::-1])\n",
    "        #倒序返回\n",
    "        return out[::-1]"
   ]
  }
 ],
 "metadata": {
  "kernelspec": {
   "display_name": "Python 3",
   "language": "python",
   "name": "python3"
  },
  "language_info": {
   "codemirror_mode": {
    "name": "ipython",
    "version": 3
   },
   "file_extension": ".py",
   "mimetype": "text/x-python",
   "name": "python",
   "nbconvert_exporter": "python",
   "pygments_lexer": "ipython3",
   "version": "3.6.3"
  }
 },
 "nbformat": 4,
 "nbformat_minor": 2
}
