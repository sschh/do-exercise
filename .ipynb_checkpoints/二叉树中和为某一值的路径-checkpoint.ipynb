{
 "cells": [
  {
   "cell_type": "code",
   "execution_count": 11,
   "metadata": {
    "collapsed": true
   },
   "outputs": [],
   "source": [
    "# -*- coding:utf-8 -*-\n",
    "class TreeNode:\n",
    "    def __init__(self, x):\n",
    "        self.val = x\n",
    "        self.left = None\n",
    "        self.right = None\n",
    "class Solution:\n",
    "    # 返回二维列表，内部每个列表表示找到的路径\n",
    "    def FindPath(self, root, expectNumber):\n",
    "        if root==None:\n",
    "            return []\n",
    "        buffer=[root]\n",
    "        score=[root.val]\n",
    "        out=[]\n",
    "        for node in buffer:\n",
    "            if node.left:\n",
    "                buffer.append(node.left)\n",
    "                score.append(node.left.val+score[buffer.index(node)])\n",
    "            if node.right:\n",
    "                buffer.append(node.right)\n",
    "                score.append(node.right.val+score[buffer.index(node)])\n",
    "        for i in range(len(score)):\n",
    "            if score[i]==expectNumber and buffer[i].left==None and buffer[i].right==None:\n",
    "                temp=[buffer[i].val]\n",
    "                j=i\n",
    "                while score[j]-buffer[j].val!=0:\n",
    "                    j=score.index(score[j]-buffer[j].val)\n",
    "                    temp.append(buffer[j].val)\n",
    "                out.append(temp[::-1])\n",
    "        return out[::-1]\n",
    "        \n",
    "        "
   ]
  },
  {
   "cell_type": "code",
   "execution_count": 12,
   "metadata": {},
   "outputs": [
    {
     "data": {
      "text/plain": [
       "[[1, 2, 5]]"
      ]
     },
     "execution_count": 12,
     "metadata": {},
     "output_type": "execute_result"
    }
   ],
   "source": [
    "a=TreeNode(1)\n",
    "b=TreeNode(2)\n",
    "c=TreeNode(3)\n",
    "d=TreeNode(4)\n",
    "e=TreeNode(5)\n",
    "a.left=b\n",
    "a.right=c\n",
    "b.left=d\n",
    "b.right=e\n",
    "s=Solution()\n",
    "s.FindPath(a,8)"
   ]
  },
  {
   "cell_type": "code",
   "execution_count": null,
   "metadata": {
    "collapsed": true
   },
   "outputs": [],
   "source": []
  }
 ],
 "metadata": {
  "kernelspec": {
   "display_name": "Python 3",
   "language": "python",
   "name": "python3"
  },
  "language_info": {
   "codemirror_mode": {
    "name": "ipython",
    "version": 3
   },
   "file_extension": ".py",
   "mimetype": "text/x-python",
   "name": "python",
   "nbconvert_exporter": "python",
   "pygments_lexer": "ipython3",
   "version": "3.6.3"
  }
 },
 "nbformat": 4,
 "nbformat_minor": 2
}
