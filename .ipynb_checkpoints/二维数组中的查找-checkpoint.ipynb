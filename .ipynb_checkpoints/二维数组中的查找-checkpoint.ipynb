{
 "cells": [
  {
   "cell_type": "markdown",
   "metadata": {},
   "source": [
    "### 题目：在一个二维数组中（每个一维数组的长度相同），每一行都按照从左到右递增的顺序排序，每一列都按照从上到下递增的顺序排序。请完成一个函数，输入这样的一个二维数组和一个整数，判断数组中是否含有该整数。"
   ]
  },
  {
   "cell_type": "code",
   "execution_count": 6,
   "metadata": {
    "collapsed": true
   },
   "outputs": [],
   "source": [
    "#从矩阵左下角开始检索，因为以上的元素都比它小，右边的都比它大，每次判断可以排除一行或一列\n",
    "#若target小于当前元素，索引上移；若大于，索引左移。\n",
    "class Solution:\n",
    "    # array 二维列表\n",
    "    def Find(self,target,array):\n",
    "        if array==[[]]:\n",
    "            return None\n",
    "        leight=len(array[0])-1\n",
    "        #行索引\n",
    "        i=len(array)-1\n",
    "        #列索引\n",
    "        j=0\n",
    "        #列索引小于矩阵长度，行索引非负时\n",
    "        while j<=leight and i>=0:\n",
    "            if target>array[i][j]:\n",
    "                j+=1\n",
    "            elif target<array[i][j]:\n",
    "                i-=1\n",
    "            else:\n",
    "                return True\n",
    "        return False\n",
    "            "
   ]
  }
 ],
 "metadata": {
  "kernelspec": {
   "display_name": "Python 3",
   "language": "python",
   "name": "python3"
  },
  "language_info": {
   "codemirror_mode": {
    "name": "ipython",
    "version": 3
   },
   "file_extension": ".py",
   "mimetype": "text/x-python",
   "name": "python",
   "nbconvert_exporter": "python",
   "pygments_lexer": "ipython3",
   "version": "3.6.3"
  }
 },
 "nbformat": 4,
 "nbformat_minor": 2
}
