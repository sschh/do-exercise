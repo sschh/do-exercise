{
 "cells": [
  {
   "cell_type": "code",
   "execution_count": 46,
   "metadata": {},
   "outputs": [],
   "source": [
    "# -*- coding:utf-8 -*-\n",
    "class Solution:\n",
    "    def movingCount(self,threshold,rows,cols):\n",
    "        if rows<=0 or cols<=0 or threshold<=0:return 0\n",
    "        arr=[[1 for i in range(cols)] for j in range(rows)]#标记矩阵\n",
    "        return self.dfs(0,0,threshold,arr)\n",
    "    def dfs(self,i,j,thre,arr):\n",
    "        if i<0 or j<0 or i>=len(arr) or j>=len(arr[0]) or arr[i][j]==0:\n",
    "            return 0\n",
    "        if self.nsum(i)+self.nsum(j)<=thre:\n",
    "            sign=1\n",
    "        else:\n",
    "            #大于阈值不能走\n",
    "            return 0\n",
    "        arr[i][j]=0\n",
    "        return sign+self.dfs(i+1,j,thre,arr)+self.dfs(i,j+1,thre,arr)+self.dfs(i-1,j,thre,arr)+self.dfs(i,j-1,thre,arr)\n",
    "    def nsum(self,k):\n",
    "        result=0\n",
    "        while k>0:\n",
    "            result+=k%10\n",
    "            k=k//10\n",
    "        return result"
   ]
  }
 ],
 "metadata": {
  "kernelspec": {
   "display_name": "Python 3",
   "language": "python",
   "name": "python3"
  },
  "language_info": {
   "codemirror_mode": {
    "name": "ipython",
    "version": 3
   },
   "file_extension": ".py",
   "mimetype": "text/x-python",
   "name": "python",
   "nbconvert_exporter": "python",
   "pygments_lexer": "ipython3",
   "version": "3.6.3"
  }
 },
 "nbformat": 4,
 "nbformat_minor": 2
}
