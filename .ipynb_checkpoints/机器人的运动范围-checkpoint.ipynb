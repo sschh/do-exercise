{
 "cells": [
  {
   "cell_type": "markdown",
   "metadata": {},
   "source": [
    "### 题目：地上有一个m行和n列的方格。一个机器人从坐标0,0的格子开始移动，每一次只能向左，右，上，下四个方向移动一格，但是不能进入行坐标和列坐标的数位之和大于k的格子。 例如，当k为18时，机器人能够进入方格（35,37），因为3+5+3+7 = 18。但是，它不能进入方格（35,38），因为3+5+3+8 = 19。请问该机器人能够达到多少个"
   ]
  },
  {
   "cell_type": "code",
   "execution_count": 46,
   "metadata": {
    "collapsed": true
   },
   "outputs": [],
   "source": [
    "#DFS 递归\n",
    "#对两个数各位求和后判断，若大于该值，不能向该位置移动！\n",
    "#走过的不能再走（标记）\n",
    "#注意深拷贝和浅拷贝：[[1 for i in range(cols)] for j in range(rows)]，前面不能用[1]*len(cols)\n",
    "class Solution:\n",
    "    def movingCount(self,threshold,rows,cols):\n",
    "        #若输入异常\n",
    "        if rows<=0 or cols<=0 or threshold<=0:return 0\n",
    "        #标记矩阵，初始化为1，若走过，变为0\n",
    "        arr=[[1 for i in range(cols)] for j in range(rows)]\n",
    "        #从原点开始递归\n",
    "        return self.dfs(0,0,threshold,arr)\n",
    "    \n",
    "    def dfs(self,i,j,thre,arr):\n",
    "        #如果当前点超出边界或已走过\n",
    "        if i<0 or j<0 or i>=len(arr) or j>=len(arr[0]) or arr[i][j]==0:\n",
    "            return 0\n",
    "        #若横纵坐标各数和小于等于阈值，记1\n",
    "        if self.nsum(i)+self.nsum(j)<=thre:\n",
    "            sign=1\n",
    "        #否则大于阈值不能走\n",
    "        else:\n",
    "            return 0\n",
    "        #标记该点走过\n",
    "        arr[i][j]=0\n",
    "        #向四周递归\n",
    "        return sign+self.dfs(i+1,j,thre,arr)+self.dfs(i,j+1,thre,arr)+self.dfs(i-1,j,thre,arr)+self.dfs(i,j-1,thre,arr)\n",
    "    #计算数字各位之和\n",
    "    def nsum(self,k):\n",
    "        result=0\n",
    "        while k>0:\n",
    "            result+=k%10\n",
    "            k=k//10\n",
    "        return result"
   ]
  }
 ],
 "metadata": {
  "kernelspec": {
   "display_name": "Python 3",
   "language": "python",
   "name": "python3"
  },
  "language_info": {
   "codemirror_mode": {
    "name": "ipython",
    "version": 3
   },
   "file_extension": ".py",
   "mimetype": "text/x-python",
   "name": "python",
   "nbconvert_exporter": "python",
   "pygments_lexer": "ipython3",
   "version": "3.6.3"
  }
 },
 "nbformat": 4,
 "nbformat_minor": 2
}
