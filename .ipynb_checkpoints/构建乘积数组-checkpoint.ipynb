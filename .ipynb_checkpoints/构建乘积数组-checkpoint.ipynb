{
 "cells": [
  {
   "cell_type": "markdown",
   "metadata": {},
   "source": [
    "### 题目：给定一个数组A[0,1,...,n-1],请构建一个数组B[0,1,...,n-1],其中B中的元素B[i]=A[0]*A[1]*...*A[i-1]*A[i+1]*...*A[n-1]。不能使用除法。"
   ]
  },
  {
   "cell_type": "code",
   "execution_count": 5,
   "metadata": {
    "collapsed": true
   },
   "outputs": [],
   "source": [
    "#遍历，分别计算左右开始的乘积（想象为：左乘：下三角矩阵，右乘：上三角矩阵）\n",
    "#正序索引从0开始，倒序索引从-1开始，即：A[len(list)-1]=A[-1]\n",
    "class Solution:\n",
    "    def multiply(self, A):\n",
    "        length=len(A)\n",
    "        #若只有一个元素或空，返回\n",
    "        if length<2:return A\n",
    "        #初始化两个list，分别存储从左、右开始的乘积，右边是倒着存储的\n",
    "        #对于第一个（倒一）的左乘（右乘）值为1\n",
    "        left,right=[1],[1]\n",
    "        #从第二个元素开始\n",
    "        for i in range(1,length):\n",
    "            #当前位置存储的是前一位置的结果乘以前一位置A中的值\n",
    "            left.append(left[i-1]*A[i-1])\n",
    "            right.append(right[i-1]*A[-i])\n",
    "        #将左右list对应位置乘起来\n",
    "        for i in range(length):\n",
    "            left[i]*=right[(-1)*i-1]\n",
    "        return left\n",
    "                "
   ]
  }
 ],
 "metadata": {
  "kernelspec": {
   "display_name": "Python 3",
   "language": "python",
   "name": "python3"
  },
  "language_info": {
   "codemirror_mode": {
    "name": "ipython",
    "version": 3
   },
   "file_extension": ".py",
   "mimetype": "text/x-python",
   "name": "python",
   "nbconvert_exporter": "python",
   "pygments_lexer": "ipython3",
   "version": "3.6.3"
  }
 },
 "nbformat": 4,
 "nbformat_minor": 2
}
