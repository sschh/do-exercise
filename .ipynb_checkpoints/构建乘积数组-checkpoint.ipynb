{
 "cells": [
  {
   "cell_type": "code",
   "execution_count": 16,
   "metadata": {
    "collapsed": true
   },
   "outputs": [],
   "source": [
    "# -*- coding:utf-8 -*-\n",
    "class Solution:\n",
    "    def multiply(self, A):\n",
    "        if len(A)<2:\n",
    "            return A\n",
    "        left=[]\n",
    "        right=[]\n",
    "        i=0\n",
    "        length=len(A)\n",
    "        while i<length:\n",
    "            if i==0:\n",
    "                temp=1\n",
    "            else:\n",
    "                temp*=A[i-1]\n",
    "            left.append(temp)\n",
    "            i+=1\n",
    "        i=length-1\n",
    "        while i>=0:\n",
    "            if i==length-1:\n",
    "                temp=1\n",
    "            else:\n",
    "                temp*=A[i+1]\n",
    "            right.append(temp)\n",
    "            i-=1\n",
    "        for i in range(length):\n",
    "            left[i]*=right[length-i-1]\n",
    "        return left\n",
    "                "
   ]
  },
  {
   "cell_type": "code",
   "execution_count": 18,
   "metadata": {},
   "outputs": [
    {
     "data": {
      "text/plain": [
       "[24, 12, 8, 6]"
      ]
     },
     "execution_count": 18,
     "metadata": {},
     "output_type": "execute_result"
    }
   ],
   "source": [
    "s=Solution()\n",
    "s.multiply([1,2,3,4])"
   ]
  }
 ],
 "metadata": {
  "kernelspec": {
   "display_name": "Python 3",
   "language": "python",
   "name": "python3"
  },
  "language_info": {
   "codemirror_mode": {
    "name": "ipython",
    "version": 3
   },
   "file_extension": ".py",
   "mimetype": "text/x-python",
   "name": "python",
   "nbconvert_exporter": "python",
   "pygments_lexer": "ipython3",
   "version": "3.6.3"
  }
 },
 "nbformat": 4,
 "nbformat_minor": 2
}
