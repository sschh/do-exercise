{
 "cells": [
  {
   "cell_type": "markdown",
   "metadata": {},
   "source": [
    "### 题目：在一个排序的链表中，存在重复的结点，请删除该链表中重复的结点，重复的结点不保留，返回链表头指针。 例如，链表1->2->3->3->4->4->5 处理后为 1->2->5"
   ]
  },
  {
   "cell_type": "code",
   "execution_count": 7,
   "metadata": {
    "collapsed": true
   },
   "outputs": [],
   "source": [
    "#class ListNode:\n",
    "#     def __init__(self, x):\n",
    "#            self.val = x\n",
    "#            self.next = None\n",
    "\n",
    "#对于排序链表，发现重复后，用一个指针记录最后不重复的位置，一个指针向后找到重复结束节点\n",
    "class Solution:\n",
    "    def deleteDuplication(self, pHead):\n",
    "        #若头结点空或只有头结点，返回\n",
    "        if pHead==None or pHead.next==None:\n",
    "            return pHead\n",
    "        #注意：生成一个指针指向头结点，防止头结点重复被删无法找到的情况\n",
    "        Head=ListNode(0)\n",
    "        Head.next=pHead\n",
    "        #使用两个指针，p指向当前最后不重复节点，l用来判断定位重复节点的结束\n",
    "        p=Head\n",
    "        l=pHead\n",
    "        while l:\n",
    "            #如果l.next存在，且发生重复：\n",
    "            if l.next and l.val==l.next.val:\n",
    "                #向后检查所有重复的节点\n",
    "                while l.next and l.val==l.next.val:\n",
    "                    l=l.next\n",
    "                #现在l指向当前最后一个重复节点，p指向该节点的后面，即删除重复节点\n",
    "                p.next=l.next\n",
    "                #l还指向最后重复节点，后移\n",
    "                l=l.next\n",
    "            else:\n",
    "            #若没有重复，l和p同时后移\n",
    "                l=l.next\n",
    "                p=p.next\n",
    "        return Head.next"
   ]
  },
  {
   "cell_type": "code",
   "execution_count": 13,
   "metadata": {
    "collapsed": true
   },
   "outputs": [],
   "source": [
    "#注意：该题链表已排序，否则非递归可能需要使用字典存储重复个数，方法如下：\n",
    "class Solution:\n",
    "    def deleteDuplication(self, pHead):    \n",
    "        if pHead==None or pHead.next==None:\n",
    "            return pHead\n",
    "        Head=ListNode(0)\n",
    "        Head.next=pHead\n",
    "        dic={}\n",
    "        p=pHead\n",
    "        #构建字典\n",
    "        while p:\n",
    "            if p.val in dic.keys():\n",
    "                dic[p.val]+=1\n",
    "            else:\n",
    "                dic[p.val]=1\n",
    "            p=p.next\n",
    "        p=pHead\n",
    "        o=Head\n",
    "        #遍历所有节点，若键值大于1，直接让上一个节点指向当前节点的下个节点\n",
    "        while p:\n",
    "            if dic[p.val]>1:\n",
    "                o.next=p.next\n",
    "            else:\n",
    "                o=o.next\n",
    "            p=p.next\n",
    "        return Head.next"
   ]
  }
 ],
 "metadata": {
  "kernelspec": {
   "display_name": "Python 3",
   "language": "python",
   "name": "python3"
  },
  "language_info": {
   "codemirror_mode": {
    "name": "ipython",
    "version": 3
   },
   "file_extension": ".py",
   "mimetype": "text/x-python",
   "name": "python",
   "nbconvert_exporter": "python",
   "pygments_lexer": "ipython3",
   "version": "3.6.3"
  }
 },
 "nbformat": 4,
 "nbformat_minor": 2
}
