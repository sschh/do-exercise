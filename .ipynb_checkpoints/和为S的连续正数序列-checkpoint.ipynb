{
 "cells": [
  {
   "cell_type": "markdown",
   "metadata": {},
   "source": [
    "### 题目：小明很喜欢数学,有一天他在做数学作业时,要求计算出9~16的和,他马上就写出了正确答案是100。但是他并不满足于此,他在想究竟有多少种连续的正数序列的和为100(至少包括两个数)。没多久,他就得到另一组连续正数和为100的序列:18,19,20,21,22。现在把问题交给你,你能不能也很快的找出所有和为S的连续正数序列? \n",
    "### 输出所有和为S的连续正数序列。序列内按照从小至大的顺序，序列间按照开始数字从小到大的顺序"
   ]
  },
  {
   "cell_type": "code",
   "execution_count": 21,
   "metadata": {
    "collapsed": true
   },
   "outputs": [],
   "source": [
    "#等差求和S = (begin+ end) * （end-begin+1） / 2 = mid * i(其中，mid是连续数列中位数，i是连续数列长度)\n",
    "#mid和i满足的条件：mid>i/2\n",
    "#数列越长，连续数列的开始值越小\n",
    "class Solution:\n",
    "    def FindContinuousSequence(self, tsum):\n",
    "        #连续数列长度\n",
    "        i=2\n",
    "        #存储满足条件的数列\n",
    "        result=[]\n",
    "        #当该数列中位数（tsum/i）大于长度的一半时\n",
    "        while (tsum/i)>(i//2):\n",
    "            #若长度奇数\n",
    "            if i%2==1:\n",
    "                #若能整除长度\n",
    "                if tsum%i==0\n",
    "                    #从中位数想两边各取i/2的长度\n",
    "                    result.append(list(range(tsum//i-i//2,tsum//i+i//2+1)))\n",
    "            #若长度为偶数\n",
    "            else:\n",
    "                #若除以长度后余数是0.5\n",
    "                if tsum/i-tsum//i==0.5:\n",
    "                    result.append(list(range(tsum//i-i//2+1,tsum//i+i//2+1)))\n",
    "            i+=1\n",
    "        #要求序列间按开始数字从小到大，即数列长度从大到小\n",
    "        return result[::-1]"
   ]
  }
 ],
 "metadata": {
  "kernelspec": {
   "display_name": "Python 3",
   "language": "python",
   "name": "python3"
  },
  "language_info": {
   "codemirror_mode": {
    "name": "ipython",
    "version": 3
   },
   "file_extension": ".py",
   "mimetype": "text/x-python",
   "name": "python",
   "nbconvert_exporter": "python",
   "pygments_lexer": "ipython3",
   "version": "3.6.3"
  }
 },
 "nbformat": 4,
 "nbformat_minor": 2
}
