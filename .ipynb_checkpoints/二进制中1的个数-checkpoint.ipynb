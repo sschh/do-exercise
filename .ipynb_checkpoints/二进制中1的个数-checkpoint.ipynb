{
 "cells": [
  {
   "cell_type": "markdown",
   "metadata": {},
   "source": [
    "### 补码：反码+1"
   ]
  },
  {
   "cell_type": "code",
   "execution_count": 22,
   "metadata": {},
   "outputs": [],
   "source": [
    "# -*- coding:utf-8 -*-\n",
    "class Solution:\n",
    "    def NumberOf1(self, n):\n",
    "        result=[]\n",
    "        count=0\n",
    "        flag=0\n",
    "        add_flag=1\n",
    "        if n<0:\n",
    "            n=-1*n\n",
    "            flag=1\n",
    "        while n>0:\n",
    "            result.append(n%2)\n",
    "            n=n//2\n",
    "        if len(result)<32:result.extend([0]*(32-len(result)))   #补至32位\n",
    "        for i in range(len(result)):\n",
    "            if flag==0:\n",
    "                if result[i]==1:count+=1\n",
    "            else:\n",
    "                result[i]=(result[i]-1)*(-1)\n",
    "                if add_flag==1:\n",
    "                    result[i]=(result[i]+1)%2\n",
    "                    if result[i]!=0:add_flag=0 \n",
    "                if result[i]==1:count+=1  \n",
    "        return count+add_flag*flag"
   ]
  },
  {
   "cell_type": "code",
   "execution_count": 23,
   "metadata": {},
   "outputs": [
    {
     "data": {
      "text/plain": [
       "32"
      ]
     },
     "execution_count": 23,
     "metadata": {},
     "output_type": "execute_result"
    }
   ],
   "source": [
    "s=Solution()\n",
    "s.NumberOf1(-1)"
   ]
  }
 ],
 "metadata": {
  "kernelspec": {
   "display_name": "Python 3",
   "language": "python",
   "name": "python3"
  },
  "language_info": {
   "codemirror_mode": {
    "name": "ipython",
    "version": 3
   },
   "file_extension": ".py",
   "mimetype": "text/x-python",
   "name": "python",
   "nbconvert_exporter": "python",
   "pygments_lexer": "ipython3",
   "version": "3.6.3"
  }
 },
 "nbformat": 4,
 "nbformat_minor": 2
}
