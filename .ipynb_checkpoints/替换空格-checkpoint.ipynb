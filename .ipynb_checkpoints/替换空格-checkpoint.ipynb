{
 "cells": [
  {
   "cell_type": "markdown",
   "metadata": {},
   "source": [
    "### 题目：请实现一个函数，将一个字符串中的每个空格替换成“%20”。例如，当字符串为We Are Happy.则经过替换之后的字符串为We%20Are%20Happy。"
   ]
  },
  {
   "cell_type": "code",
   "execution_count": 39,
   "metadata": {
    "collapsed": true
   },
   "outputs": [],
   "source": [
    "#python字符串不可变对象\n",
    "class Solution:\n",
    "    # s 源字符串\n",
    "    def replaceSpace(self, s):\n",
    "        if len(s)>0:\n",
    "            #转化为list\n",
    "            a=list(s)\n",
    "            #倒着循环，发现空格，列表后面加两个\n",
    "            for i in range(len(a)-1,-1,-1):\n",
    "                if a[i]==' ':\n",
    "                    a.extend(['',''])\n",
    "                    #后方元素依次向后移两位\n",
    "                    for j in range(len(a)-1,i,-1):\n",
    "                        a[j]=a[j-2]\n",
    "                        a[i+2]='0'\n",
    "                        a[i+1]='2'\n",
    "                        a[i]='%'\n",
    "            #将list装化为str\n",
    "            s=''.join(a)\n",
    "        return s"
   ]
  }
 ],
 "metadata": {
  "kernelspec": {
   "display_name": "Python 3",
   "language": "python",
   "name": "python3"
  },
  "language_info": {
   "codemirror_mode": {
    "name": "ipython",
    "version": 3
   },
   "file_extension": ".py",
   "mimetype": "text/x-python",
   "name": "python",
   "nbconvert_exporter": "python",
   "pygments_lexer": "ipython3",
   "version": "3.6.3"
  }
 },
 "nbformat": 4,
 "nbformat_minor": 2
}
