{
 "cells": [
  {
   "cell_type": "markdown",
   "metadata": {},
   "source": [
    "### 题目：如何得到一个数据流中的中位数？如果从数据流中读出奇数个数值，那么中位数就是所有\n",
    "### 数值排序之后位于中间的数值。如果从数据流中读出偶数个数值，那么中位数就是所有数值排序\n",
    "### 之后中间两个数的平均值。我们使用Insert()方法读取数据流，使用GetMedian()方法获取当前读\n",
    "### 取数据的中位数。"
   ]
  },
  {
   "cell_type": "code",
   "execution_count": 43,
   "metadata": {
    "collapsed": true
   },
   "outputs": [],
   "source": [
    "#建立两个双向队列，分别按顺序排列，\n",
    "#总数为奇数，返回小队列的首值；偶数返回小队列的首值和大队列的终值的平均数（/2.0）\n",
    "class Solution:\n",
    "    def __init__(self):\n",
    "        #存储比中位数小的值，首位即中位数\n",
    "        self.min=[]\n",
    "        #存储比中位数大的值\n",
    "        self.max=[]\n",
    "    #将数字插入到已排好序的队列中\n",
    "    def insertnum(self,numlist,num):\n",
    "        i=0\n",
    "        #找到num插入的位置，插入\n",
    "        while i<len(numlist):\n",
    "            if numlist[i]<num:\n",
    "                return numlist[:i]+[num]+numlist[i:]\n",
    "            i+=1\n",
    "        #若numlist为空\n",
    "        numlist.append(num)\n",
    "        return numlist\n",
    "\n",
    "    def Insert(self, num):\n",
    "        #若小队列空或当前值大于队首元素\n",
    "        if self.min==[] or self.min[0]>=num:\n",
    "            self.min=self.insertnum(self.min,num)\n",
    "        else:\n",
    "            self.max=self.insertnum(self.max,num)\n",
    "        #若小队列长度大2，则需要将小队列队首取出，加入到大队列队尾\n",
    "        if len(self.min)-len(self.max)==2:\n",
    "            self.max.append(self.min.pop(0))\n",
    "        #若大队列长度大1，需要将大队列队尾元素添加到小队列队首\n",
    "        if len(self.max)-len(self.min)==1:\n",
    "            self.min=[self.max.pop()]+self.min\n",
    "            \n",
    "    def GetMedian(self):\n",
    "        if not self.min:\n",
    "            return None\n",
    "        else:\n",
    "            #若奇数，返回小队列队首\n",
    "            return self.min[0] if len(self.min)!=len(self.max) else (self.min[0]+self.max[-1])/2.0"
   ]
  }
 ],
 "metadata": {
  "kernelspec": {
   "display_name": "Python 3",
   "language": "python",
   "name": "python3"
  },
  "language_info": {
   "codemirror_mode": {
    "name": "ipython",
    "version": 3
   },
   "file_extension": ".py",
   "mimetype": "text/x-python",
   "name": "python",
   "nbconvert_exporter": "python",
   "pygments_lexer": "ipython3",
   "version": "3.6.3"
  }
 },
 "nbformat": 4,
 "nbformat_minor": 2
}
