{
 "cells": [
  {
   "cell_type": "code",
   "execution_count": 4,
   "metadata": {
    "collapsed": true
   },
   "outputs": [],
   "source": [
    "class ListNode:\n",
    "     def __init__(self, x):\n",
    "        self.val = x\n",
    "        self.next = None\n",
    "class Solution:\n",
    "    def EntryNodeOfLoop(self, pHead):\n",
    "        p=pHead\n",
    "        m=pHead\n",
    "        flag=False\n",
    "        while m!=None and m.next!=None:\n",
    "            p=p.next\n",
    "            m=m.next.next\n",
    "            if m==p:\n",
    "                flag=True\n",
    "                break\n",
    "        if not flag:return None\n",
    "        p=pHead\n",
    "        while p!=m:\n",
    "            p=p.next\n",
    "            m=m.next\n",
    "        return p"
   ]
  },
  {
   "cell_type": "code",
   "execution_count": 2,
   "metadata": {
    "collapsed": true
   },
   "outputs": [],
   "source": [
    "a=ListNode(1)\n",
    "b=ListNode(1)\n",
    "c=ListNode(0)\n",
    "d=ListNode(2)\n",
    "e=ListNode(3)\n",
    "f=ListNode(1)\n",
    "g=ListNode(1)\n",
    "h=ListNode(1)\n",
    "i=ListNode(1)\n",
    "j=ListNode(1)\n",
    "a.next=b\n",
    "b.next=c\n",
    "c.next=d\n",
    "d.next=e\n",
    "e.next=f\n",
    "f.next=j\n",
    "j.next=d"
   ]
  },
  {
   "cell_type": "code",
   "execution_count": 11,
   "metadata": {},
   "outputs": [
    {
     "data": {
      "text/plain": [
       "True"
      ]
     },
     "execution_count": 11,
     "metadata": {},
     "output_type": "execute_result"
    }
   ],
   "source": [
    "s=Solution()\n",
    "pp=s.EntryNodeOfLoop(a)\n",
    "pp==d"
   ]
  }
 ],
 "metadata": {
  "kernelspec": {
   "display_name": "Python 3",
   "language": "python",
   "name": "python3"
  },
  "language_info": {
   "codemirror_mode": {
    "name": "ipython",
    "version": 3
   },
   "file_extension": ".py",
   "mimetype": "text/x-python",
   "name": "python",
   "nbconvert_exporter": "python",
   "pygments_lexer": "ipython3",
   "version": "3.6.3"
  }
 },
 "nbformat": 4,
 "nbformat_minor": 2
}
