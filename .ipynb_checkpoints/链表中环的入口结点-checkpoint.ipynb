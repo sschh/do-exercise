{
 "cells": [
  {
   "cell_type": "markdown",
   "metadata": {},
   "source": [
    "### 题目：给一个链表，若其中包含环，请找出该链表的环的入口结点，否则，输出null。"
   ]
  },
  {
   "cell_type": "code",
   "execution_count": 4,
   "metadata": {
    "collapsed": true
   },
   "outputs": [],
   "source": [
    "#class ListNode:\n",
    "#     def __init__(self, x):\n",
    "#        self.val = x\n",
    "#        self.next = None\n",
    "\n",
    "#方法一：不断存储后每次查找\n",
    "#方法二：长短指针法（1步、2步）\n",
    "#第一次相遇必在环中，长指针走过的长度是短的两倍。若不相遇则无环。\n",
    "#一个从相遇点开始，另一个从链表起点开始，都以1步走，再次相遇之处即为环起点。\n",
    "\n",
    "class Solution:\n",
    "    def EntryNodeOfLoop(self, pHead):\n",
    "        #短指针\n",
    "        p=pHead\n",
    "        #长指针\n",
    "        m=pHead\n",
    "        flag=False\n",
    "        #若有节点，且有环（有环没有终结点）\n",
    "        while m!=None and m.next!=None:\n",
    "            p=p.next\n",
    "            m=m.next.next\n",
    "            #长短指针指向一处时，跳出循环\n",
    "            if m==p:\n",
    "                flag=True\n",
    "                break\n",
    "        if not flag:return None\n",
    "        #一个指针从头开始，另一个指针从相遇节点开始\n",
    "        p=pHead\n",
    "        #相等时找到环起点，结束循环\n",
    "        while p!=m:\n",
    "            p=p.next\n",
    "            m=m.next\n",
    "        return p"
   ]
  }
 ],
 "metadata": {
  "kernelspec": {
   "display_name": "Python 3",
   "language": "python",
   "name": "python3"
  },
  "language_info": {
   "codemirror_mode": {
    "name": "ipython",
    "version": 3
   },
   "file_extension": ".py",
   "mimetype": "text/x-python",
   "name": "python",
   "nbconvert_exporter": "python",
   "pygments_lexer": "ipython3",
   "version": "3.6.3"
  }
 },
 "nbformat": 4,
 "nbformat_minor": 2
}
