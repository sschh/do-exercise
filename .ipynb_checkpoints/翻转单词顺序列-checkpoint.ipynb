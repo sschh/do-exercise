{
 "cells": [
  {
   "cell_type": "markdown",
   "metadata": {},
   "source": [
    "### 题目：牛客最近来了一个新员工Fish，每天早晨总是会拿着一本英文杂志，写些句子在本子上。同事Cat对Fish写的内容颇感兴趣，有一天他向Fish借来翻看，但却读不懂它的意思。例如，“student. a am I”。后来才意识到，这家伙原来把句子单词的顺序翻转了，正确的句子应该是“I am a student.”。Cat对一一的翻转这些单词顺序可不在行，你能帮助他么？"
   ]
  },
  {
   "cell_type": "code",
   "execution_count": 13,
   "metadata": {
    "collapsed": true
   },
   "outputs": [],
   "source": [
    "#将格式转为list，把各单词翻转后，整体翻转\n",
    "#注意最后一个单词末尾可能没空格，但是也要翻转\n",
    "#评论区答案使用split，原理一致：return \" \".join(s.split()[::-1]) if s.strip() != \"\" else s\n",
    "class Solution:\n",
    "    def ReverseSentence(self, s):\n",
    "        if s=='':return ''\n",
    "        begin=0\n",
    "        #转为list\n",
    "        ss=list(s)\n",
    "        for i in range(len(ss)):\n",
    "            if ss[i]==' ':\n",
    "                #将begin到‘ ’的字符串倒置\n",
    "                temp=ss[begin:i]\n",
    "                temp=temp[::-1]\n",
    "                ss[begin:i]=temp\n",
    "                begin=i+1\n",
    "            #到最后节点了（不是空格）\n",
    "            elif i==len(ss)-1:\n",
    "                temp=ss[begin:]\n",
    "                temp=temp[::-1]\n",
    "                ss[begin:]=temp\n",
    "        #返回整体翻转的字符串\n",
    "        return \"\".join(ss[::-1])"
   ]
  }
 ],
 "metadata": {
  "kernelspec": {
   "display_name": "Python 3",
   "language": "python",
   "name": "python3"
  },
  "language_info": {
   "codemirror_mode": {
    "name": "ipython",
    "version": 3
   },
   "file_extension": ".py",
   "mimetype": "text/x-python",
   "name": "python",
   "nbconvert_exporter": "python",
   "pygments_lexer": "ipython3",
   "version": "3.6.3"
  }
 },
 "nbformat": 4,
 "nbformat_minor": 2
}
