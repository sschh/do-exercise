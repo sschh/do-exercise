{
 "cells": [
  {
   "cell_type": "markdown",
   "metadata": {},
   "source": [
    "### 题目：给定一个数组和滑动窗口的大小，找出所有滑动窗口里数值的最大值。例如，如果输入数组{2,3,4,2,6,2,5,1}及滑动\n",
    "### 窗口的大小3，那么一共存在6个滑动窗口，他们的最大值分别为{4,4,6,6,6,5}； 针对数组{2,3,4,2,6,2,5,1}的滑动窗口有以\n",
    "### 下6个： {[2,3,4],2,6,2,5,1}， {2,[3,4,2],6,2,5,1}， {2,3,[4,2,6],2,5,1}， {2,3,4,[2,6,2],5,1}， {2,3,4,2,[6,2,5],1}， \n",
    "### {2,3,4,2,6,[2,5,1]}。"
   ]
  },
  {
   "cell_type": "code",
   "execution_count": 1,
   "metadata": {
    "collapsed": true
   },
   "outputs": [],
   "source": [
    "#找到当前窗口最大值及其再窗口中的索引\n",
    "#①若索引为0，则下个窗口重新找最大值及索引\n",
    "#②若索引不为0，判断它和下个窗口加进来的那个值的大小关系\n",
    "class Solution:\n",
    "    def maxInWindows(self, num, size):\n",
    "        #输入判断\n",
    "        if not num or size<=0:return []\n",
    "        length=len(num)\n",
    "        if length<size:return []\n",
    "        #存储窗口内最大值的索引\n",
    "        index=0\n",
    "        #存储结果\n",
    "        result=[]\n",
    "        #移动窗口\n",
    "        for i in range(length-size+1):\n",
    "            #若前一次最大值索引为0，平移后需要重新找最大值\n",
    "            if index==0:\n",
    "                maxnum,index=self.maxsearch(num[i:i+size])\n",
    "            else:\n",
    "                #判断窗口新进来的值和之前的最大值的关系，若大于，更新\n",
    "                if num[i+index-1]<num[i+size-1]:\n",
    "                    maxnum=num[i+size-1]\n",
    "                    index=size-1\n",
    "                #若小于，序号减1，即变成在当前窗口的索引（平移了1位）\n",
    "                else:\n",
    "                    index-=1\n",
    "            result.append(maxnum)\n",
    "        return result\n",
    "    #返回num中的最大元素及索引\n",
    "    def maxsearch(self,num):\n",
    "        result=num[0]\n",
    "        length=len(num)\n",
    "        for i in range(length):\n",
    "            if num[i]>=result:\n",
    "                result=num[i]\n",
    "                temp=i\n",
    "        return result,temp"
   ]
  }
 ],
 "metadata": {
  "kernelspec": {
   "display_name": "Python 3",
   "language": "python",
   "name": "python3"
  },
  "language_info": {
   "codemirror_mode": {
    "name": "ipython",
    "version": 3
   },
   "file_extension": ".py",
   "mimetype": "text/x-python",
   "name": "python",
   "nbconvert_exporter": "python",
   "pygments_lexer": "ipython3",
   "version": "3.6.3"
  }
 },
 "nbformat": 4,
 "nbformat_minor": 2
}
