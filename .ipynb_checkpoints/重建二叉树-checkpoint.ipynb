{
 "cells": [
  {
   "cell_type": "markdown",
   "metadata": {},
   "source": [
    "### 题目：输入某二叉树的前序遍历和中序遍历的结果，请重建出该二叉树。假设输入的前序遍历和中序遍历的结果中都不含重复的数字。例如输入前序遍历序列{1,2,4,7,3,5,6,8}和中序遍历序列{4,7,2,1,5,3,8,6}，则重建二叉树并返回。"
   ]
  },
  {
   "cell_type": "code",
   "execution_count": 10,
   "metadata": {
    "collapsed": true
   },
   "outputs": [],
   "source": [
    "#class TreeNode:\n",
    "#     def __init__(self, x):\n",
    "#        self.val = x\n",
    "#        self.left = None\n",
    "#        self.right = None\n",
    "\n",
    "#前序遍历：根节点>左子树>右子树\n",
    "#中序遍历：左子树>根节点>右子树\n",
    "\n",
    "#前序遍历首位即根节点，在中序遍历中找到根节点，划分左右子树\n",
    "#递归\n",
    "class Solution:\n",
    "    # 返回构造的TreeNode根节点\n",
    "    def reConstructBinaryTree(self, pre, tin):\n",
    "        # 若两种遍历都非空\n",
    "        if pre and tin:\n",
    "            for i in range(len(tin)):\n",
    "                #在中序遍历中找到根节点\n",
    "                if tin[i]==pre[0]:\n",
    "                    root=TreeNode(tin[i])\n",
    "                    #有左子树\n",
    "                    if i>0:\n",
    "                        #分别在前序遍历和中序遍历中找到对应的左子树节点，递归\n",
    "                        root.left=self.reConstructBinaryTree(pre[1:1+i],tin[0:i])\n",
    "                    #有右子树\n",
    "                    if i<len(tin)-1:\n",
    "                        #分别在前序遍历和中序遍历中找到对应的右子树节点，递归\n",
    "                        root.right=self.reConstructBinaryTree(pre[1+i:len(pre)],tin[i+1:len(tin)])\n",
    "                    return root \n",
    "        else:\n",
    "            return None"
   ]
  }
 ],
 "metadata": {
  "kernelspec": {
   "display_name": "Python 3",
   "language": "python",
   "name": "python3"
  },
  "language_info": {
   "codemirror_mode": {
    "name": "ipython",
    "version": 3
   },
   "file_extension": ".py",
   "mimetype": "text/x-python",
   "name": "python",
   "nbconvert_exporter": "python",
   "pygments_lexer": "ipython3",
   "version": "3.6.3"
  }
 },
 "nbformat": 4,
 "nbformat_minor": 2
}
