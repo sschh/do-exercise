{
 "cells": [
  {
   "cell_type": "markdown",
   "metadata": {},
   "source": [
    "### 题目：请实现两个函数，分别用来序列化和反序列化二叉树\n",
    "### 二叉树的序列化是指：把一棵二叉树按照某种遍历方式的结果以某种格式保存为字符串，从而使\n",
    "### 得内存中建立起来的二叉树可以持久保存。序列化可以基于先序、中序、后序、层序的二叉树遍\n",
    "### 历方式来进行修改，序列化的结果是一个字符串，序列化时通过 某种符号表示空节点（#），以 \n",
    "### ！ 表示一个结点值的结束（value!）。\n",
    "### 二叉树的反序列化是指：根据某种遍历顺序得到的序列化字符串结果str，重构二叉树。"
   ]
  },
  {
   "cell_type": "code",
   "execution_count": 44,
   "metadata": {
    "collapsed": true
   },
   "outputs": [],
   "source": [
    "#class TreeNode:\n",
    "#    def __init__(self, x):\n",
    "#        self.val = x\n",
    "#        self.left = None\n",
    "#        self.right = None\n",
    "\n",
    "##答案来自评论区\n",
    "#这里使用先序遍历\n",
    "class Solution:\n",
    "    def __init__(self):\n",
    "        #存储遍历节点值\n",
    "        self.result=[]\n",
    "        #建树时的索引\n",
    "        self.flag=-1\n",
    "        \n",
    "    def Serialize(self, root):\n",
    "        if not root:return '#!'\n",
    "        self.preorder(root)\n",
    "        s=''\n",
    "        for node in self.result:\n",
    "            if node!='#':\n",
    "                s=s+node+'!'\n",
    "            else:\n",
    "                s+='#!'\n",
    "        return s\n",
    "    \n",
    "    def Deserialize(self, s):\n",
    "        #若只有#，则原二叉树为空\n",
    "        if s=='#!':return None\n",
    "        #从！拆开\n",
    "        l=s.split('!')\n",
    "        return self.prebuild(l)\n",
    "        \n",
    "    #使用先序遍历建立二叉树\n",
    "    def prebuild(self,l):\n",
    "        self.flag+=1\n",
    "        if not l:return None\n",
    "        if self.flag>=len(l):return None\n",
    "        if l[self.flag]=='#' or l[self.flag]==' ':\n",
    "            root=None\n",
    "        else:\n",
    "            #先生成当前节点，再进入左右子树递归，先左后右\n",
    "            root=TreeNode(int(l[self.flag]))\n",
    "            root.left=self.prebuild(l)\n",
    "            root.right=self.prebuild(l)\n",
    "        return root\n",
    "    \n",
    "    #先序遍历\n",
    "    def preorder(self,root):\n",
    "        if root:\n",
    "            self.result.append(str(root.val))\n",
    "            self.preorder(root.left)\n",
    "            self.preorder(root.right)\n",
    "        else:\n",
    "            #若当前节点不存在则加#，表示结束\n",
    "            self.result.append('#')\n",
    "            "
   ]
  }
 ],
 "metadata": {
  "kernelspec": {
   "display_name": "Python 3",
   "language": "python",
   "name": "python3"
  },
  "language_info": {
   "codemirror_mode": {
    "name": "ipython",
    "version": 3
   },
   "file_extension": ".py",
   "mimetype": "text/x-python",
   "name": "python",
   "nbconvert_exporter": "python",
   "pygments_lexer": "ipython3",
   "version": "3.6.3"
  }
 },
 "nbformat": 4,
 "nbformat_minor": 2
}
