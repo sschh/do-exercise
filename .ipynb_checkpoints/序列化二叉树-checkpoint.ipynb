{
 "cells": [
  {
   "cell_type": "code",
   "execution_count": 44,
   "metadata": {},
   "outputs": [],
   "source": [
    "# -*- coding:utf-8 -*-\n",
    "#class TreeNode:\n",
    "#    def __init__(self, x):\n",
    "#        self.val = x\n",
    "#        self.left = None\n",
    "#        self.right = None\n",
    "class Solution:\n",
    "    def __init__(self):\n",
    "        self.result=[]\n",
    "        self.flag=-1\n",
    "    def Serialize(self, root):\n",
    "        if not root:return '#!'\n",
    "        self.preorder(root)\n",
    "        s=''\n",
    "        for node in self.result:\n",
    "            if node!='#':\n",
    "                s=s+node+'!'\n",
    "            else:\n",
    "                s+='#!'\n",
    "        return s\n",
    "    def Deserialize(self, s):\n",
    "        if s=='#!':return None\n",
    "        l=s.split('!')\n",
    "        return self.prebuild(l)\n",
    "        \n",
    "    def prebuild(self,l):\n",
    "        self.flag+=1\n",
    "        if not l:return None\n",
    "        if self.flag>=len(l):return None\n",
    "        if l[self.flag]=='#' or l[self.flag]==' ':\n",
    "            root=None\n",
    "        else:\n",
    "            root=TreeNode(int(l[self.flag]))\n",
    "            root.left=self.prebuild(l)\n",
    "            root.right=self.prebuild(l)\n",
    "        return root\n",
    "                \n",
    "    def preorder(self,root):\n",
    "        if root:\n",
    "            self.result.append(str(root.val))\n",
    "            self.preorder(root.left)\n",
    "            self.preorder(root.right)\n",
    "        else:\n",
    "            self.result.append('#')\n",
    "            "
   ]
  },
  {
   "cell_type": "code",
   "execution_count": null,
   "metadata": {
    "collapsed": true
   },
   "outputs": [],
   "source": []
  }
 ],
 "metadata": {
  "kernelspec": {
   "display_name": "Python 3",
   "language": "python",
   "name": "python3"
  },
  "language_info": {
   "codemirror_mode": {
    "name": "ipython",
    "version": 3
   },
   "file_extension": ".py",
   "mimetype": "text/x-python",
   "name": "python",
   "nbconvert_exporter": "python",
   "pygments_lexer": "ipython3",
   "version": "3.6.3"
  }
 },
 "nbformat": 4,
 "nbformat_minor": 2
}
