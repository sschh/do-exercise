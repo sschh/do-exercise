{
 "cells": [
  {
   "cell_type": "markdown",
   "metadata": {},
   "source": [
    "### 题目：n个数字（0,1,…,n-1）形成一个圆圈，从数字0开始，每次从这个圆圈中删除第m个数字（第一个为当前数字本身，第二个为当前数字的下一个数字）。当一个数字删除后，从被删除数字的下一个继续删除第m个数字。求出在这个圆圈中剩下的最后一个数字。如果没有数字，请返回-1"
   ]
  },
  {
   "cell_type": "code",
   "execution_count": 46,
   "metadata": {
    "collapsed": true
   },
   "outputs": [],
   "source": [
    "#约瑟夫环问题\n",
    "#该方法使用list模拟环，需要考虑超出列表索引的情况\n",
    "#可以用链表模拟环\n",
    "class Solution:\n",
    "    def LastRemaining_Solution(self, n, m):\n",
    "        if n==0:return -1\n",
    "        #生成0~n-1的列表\n",
    "        ls=list(range(n))\n",
    "        begin=0\n",
    "        #一直循环，直到列表长度为1，即剩下最后一个元素\n",
    "        while 1:\n",
    "            begin=self.remove(ls,begin,m)\n",
    "            length=len(ls)\n",
    "            if length==1:return ls[0]\n",
    "            #如果起始点大于等于列表长度，说明前一次删除的是列表最后的值，下次起始点即列表首位\n",
    "            if begin>=length:begin=0\n",
    "    #删除，返回值是删除点，也就是下次开始的起点\n",
    "    def remove(self,la,begin,mm):\n",
    "        #若起始元素缩影+删除元素缩影<列表长度\n",
    "        if begin+mm<=len(la):\n",
    "            temp=begin+mm-1\n",
    "            #删除对应元素后，该位置即下次开始的起点\n",
    "            la.pop(temp)\n",
    "            return temp\n",
    "        #若起始元素缩影+删除元素缩影>列表长度\n",
    "        else:\n",
    "            #若大于超过2圈，减到2圈内\n",
    "            while begin+mm>2*len(la):\n",
    "                mm-=len(la)\n",
    "            #删除对应位置元素\n",
    "            temp=mm-len(la)+begin-1\n",
    "            la.pop(temp)\n",
    "            return temp"
   ]
  }
 ],
 "metadata": {
  "kernelspec": {
   "display_name": "Python 3",
   "language": "python",
   "name": "python3"
  },
  "language_info": {
   "codemirror_mode": {
    "name": "ipython",
    "version": 3
   },
   "file_extension": ".py",
   "mimetype": "text/x-python",
   "name": "python",
   "nbconvert_exporter": "python",
   "pygments_lexer": "ipython3",
   "version": "3.6.3"
  }
 },
 "nbformat": 4,
 "nbformat_minor": 2
}
