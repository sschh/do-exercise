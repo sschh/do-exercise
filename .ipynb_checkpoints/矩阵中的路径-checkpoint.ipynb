{
 "cells": [
  {
   "cell_type": "markdown",
   "metadata": {},
   "source": [
    "### 题目：设计一个函数，用来判断在一个矩阵中是否存在一条包含某字符串所有字符的路径。路径可以从矩阵中的任意一个\n",
    "### 格子开始，每一步可以在矩阵中向左，向右，向上，向下移动一个格子。如果一条路径经过了矩阵中的某一个格子，则该\n",
    "### 路径不能再进入该格子。 例如 a b c e s f c s a d e e 矩阵中包含一条字符串\"bcced\"的路径，但是矩阵中不包含\"abcb\"\n",
    "### 路径，因为字符串的第一个字符b占据了矩阵中的第一行第二个格子之后，路径不能再次进入该格子。"
   ]
  },
  {
   "cell_type": "code",
   "execution_count": 113,
   "metadata": {
    "collapsed": true
   },
   "outputs": [],
   "source": [
    "# 深度优先搜索，使用标记矩阵标记是否走过，使用栈存储路径\n",
    "#注意：\n",
    "#①向四个方向移动时需要判断是否位于矩阵边界\n",
    "#②zeros=[[0]*2]*3是3个list的浅拷贝，修改其中的任何一个元素会改变整个列表，应该使用如下方法：zeros=[([0]*2) for i in range(3)]\n",
    "#③考虑输入为空或一个元素的情况\n",
    "class Solution:\n",
    "    def hasPath(self, matrix, rows, cols, path):\n",
    "        #若输入不合理\n",
    "        if matrix==[] or rows==0 or cols==0 or path=='':return False\n",
    "        #输入的matrix是list，将其整理为矩阵存储\n",
    "        mymatrix=[]\n",
    "        for i in range(0,len(matrix),cols):\n",
    "            mymatrix.append(matrix[i:i+cols])\n",
    "        #每个点作为起点分别开始\n",
    "        for nodeindex in range(len(matrix)):\n",
    "            #存储是否经过，走过标1，更换起点就要初始化标记矩阵和栈\n",
    "            zeros=[([0]*cols) for i in range(rows)]\n",
    "            #若路径起点等于当前点\n",
    "            if path[0]==matrix[nodeindex]:\n",
    "                #若路径只有一个点\n",
    "                if len(path)==1:return True\n",
    "                #找到矩阵中起点对应的行和列\n",
    "                row=nodeindex//cols\n",
    "                col=nodeindex%cols\n",
    "                #标记矩阵标1\n",
    "                zeros[row][col]=1\n",
    "                #初始化栈，将起点坐标进栈\n",
    "                stack=[[row,col]]\n",
    "                #index表示起点之后成功找到路径点的数量\n",
    "                index=0\n",
    "                #若栈中有元素，且栈的长度小于路径长度\n",
    "                while stack and len(stack)<len(path):\n",
    "                    #栈顶元素是当前点，向四周探索\n",
    "                    index,stack,zeros=self.searchPath(stack[-1][0],stack[-1][1],mymatrix,zeros,path,index,stack)\n",
    "                #若成功探索了len-1个节点，则说明找到路径\n",
    "                if index==len(path)-1:return True\n",
    "        return False\n",
    "    #向四周探索，若找到，则移动到该坐标，添加入stack，index加1，zeros对应位置标1\n",
    "    def searchPath(self,row,col,mymatrix,zeros,path,index,stack):\n",
    "        #判断下个节点\n",
    "        index+=1\n",
    "        #向右(不在右边界、右边可以走、相等)\n",
    "        if col<len(mymatrix[0])-1 and zeros[row][col+1]!=1 and mymatrix[row][col+1]==path[index]:\n",
    "            zeros[row][col+1]=1\n",
    "            col+=1\n",
    "            stack.append([row,col])\n",
    "        #向下(不在下边界、下边可以走、相等)\n",
    "        elif row<len(mymatrix)-1 and zeros[row+1][col]!=1 and mymatrix[row+1][col]==path[index]:\n",
    "            zeros[row+1][col]=1\n",
    "            row+=1\n",
    "            stack.append([row,col])\n",
    "        #向左(不在左边界、左边可以走、相等)    \n",
    "        elif col>0 and zeros[row][col-1]!=1 and mymatrix[row][col-1]==path[index]:\n",
    "            zeros[row][col-1]=1\n",
    "            col-=1\n",
    "            stack.append([row,col])\n",
    "        #向上(不在上边界、上边可以走、相等)\n",
    "        elif row>0 and zeros[row-1][col]!=1 and mymatrix[row-1][col]==path[index]:\n",
    "            zeros[row-1][col]=1\n",
    "            row-=1\n",
    "            stack.append([row,col])\n",
    "        #若四周都没有下个路径点，则需要退一步\n",
    "        else:\n",
    "            index-=2#回退到当前的上个节点（现在在当前的下一个节点）\n",
    "            #将存储的当前路径点删除\n",
    "            stack.pop()\n",
    "        return index,stack,zeros"
   ]
  }
 ],
 "metadata": {
  "kernelspec": {
   "display_name": "Python 3",
   "language": "python",
   "name": "python3"
  },
  "language_info": {
   "codemirror_mode": {
    "name": "ipython",
    "version": 3
   },
   "file_extension": ".py",
   "mimetype": "text/x-python",
   "name": "python",
   "nbconvert_exporter": "python",
   "pygments_lexer": "ipython3",
   "version": "3.6.3"
  }
 },
 "nbformat": 4,
 "nbformat_minor": 2
}
