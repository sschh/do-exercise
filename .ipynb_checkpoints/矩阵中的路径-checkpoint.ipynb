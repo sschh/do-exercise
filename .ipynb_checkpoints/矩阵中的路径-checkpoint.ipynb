{
 "cells": [
  {
   "cell_type": "markdown",
   "metadata": {},
   "source": [
    "### 非递归"
   ]
  },
  {
   "cell_type": "code",
   "execution_count": 113,
   "metadata": {
    "collapsed": true
   },
   "outputs": [],
   "source": [
    "# -*- coding:utf-8 -*-\n",
    "class Solution:\n",
    "    def hasPath(self, matrix, rows, cols, path):\n",
    "        if matrix==[] or rows==0 or cols==0 or path=='':return False\n",
    "        mymatrix=[]\n",
    "        for i in range(0,len(matrix),cols):\n",
    "            mymatrix.append(matrix[i:i+cols])\n",
    "        for nodeindex in range(len(matrix)):\n",
    "            #存储是否经过，走过标1，更换起点就要初始化该标记矩阵\n",
    "            zeros=[([0]*cols) for i in range(rows)]\n",
    "            if path[0]==matrix[nodeindex]:\n",
    "                if len(path)==1:return True\n",
    "                #找到矩阵中起点的位置，标记矩阵标1\n",
    "                row=nodeindex//cols\n",
    "                col=nodeindex%cols\n",
    "                zeros[row][col]=1\n",
    "                stack=[[row,col]]\n",
    "                index=0\n",
    "                while stack and len(stack)<len(path):\n",
    "                    index,stack,zeros=self.searchPath(stack[-1][0],stack[-1][1],mymatrix,zeros,path,index,stack)\n",
    "                if index==len(path)-1:return True\n",
    "        return False\n",
    "    def searchPath(self,row,col,mymatrix,zeros,path,index,stack):\n",
    "        #判断下个节点\n",
    "        index+=1\n",
    "        #向右(不在右边界、右边可以走、相等)\n",
    "        if col<len(mymatrix[0])-1 and zeros[row][col+1]!=1 and mymatrix[row][col+1]==path[index]:\n",
    "            zeros[row][col+1]=1\n",
    "            col+=1\n",
    "            stack.append([row,col])\n",
    "        #向下(不在下边界、下边可以走、相等)\n",
    "        elif row<len(mymatrix)-1 and zeros[row+1][col]!=1 and mymatrix[row+1][col]==path[index]:\n",
    "            zeros[row+1][col]=1\n",
    "            row+=1\n",
    "            stack.append([row,col])\n",
    "        #向左(不在左边界、左边可以走、相等)    \n",
    "        elif col>0 and zeros[row][col-1]!=1 and mymatrix[row][col-1]==path[index]:\n",
    "            zeros[row][col-1]=1\n",
    "            col-=1\n",
    "            stack.append([row,col])\n",
    "        #向上(不在上边界、上边可以走、相等)\n",
    "        elif row>0 and zeros[row-1][col]!=1 and mymatrix[row-1][col]==path[index]:\n",
    "            zeros[row-1][col]=1\n",
    "            row-=1\n",
    "            stack.append([row,col])\n",
    "        else:\n",
    "            index-=2#回退到当前的上个节点（现在当前的下一个节点）\n",
    "            stack.pop()\n",
    "        return index,stack,zeros"
   ]
  },
  {
   "cell_type": "code",
   "execution_count": null,
   "metadata": {
    "collapsed": true
   },
   "outputs": [],
   "source": []
  },
  {
   "cell_type": "code",
   "execution_count": 114,
   "metadata": {},
   "outputs": [
    {
     "data": {
      "text/plain": [
       "True"
      ]
     },
     "execution_count": 114,
     "metadata": {},
     "output_type": "execute_result"
    }
   ],
   "source": [
    "s=Solution()\n",
    "s.hasPath(['a','b','c','e','s','f','c','s','a','d','e','e'],3,4,'bcceda')"
   ]
  }
 ],
 "metadata": {
  "kernelspec": {
   "display_name": "Python 3",
   "language": "python",
   "name": "python3"
  },
  "language_info": {
   "codemirror_mode": {
    "name": "ipython",
    "version": 3
   },
   "file_extension": ".py",
   "mimetype": "text/x-python",
   "name": "python",
   "nbconvert_exporter": "python",
   "pygments_lexer": "ipython3",
   "version": "3.6.3"
  }
 },
 "nbformat": 4,
 "nbformat_minor": 2
}
