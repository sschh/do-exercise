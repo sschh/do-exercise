{
 "cells": [
  {
   "cell_type": "markdown",
   "metadata": {},
   "source": [
    "### 题目：给你一根长度为n的绳子，请把绳子剪成整数长的m段（m、n都是整数，n>1并且m>1），每段绳子的长度记为k[0],k[1],...,k[m]。请问k[0]xk[1]x...xk[m]可能的最大乘积是多少？例如，当绳子的长度是8时，我们把它剪成长度分别为2、3、3的三段，此时得到的最大乘积是18"
   ]
  },
  {
   "cell_type": "code",
   "execution_count": 2,
   "metadata": {
    "collapsed": true
   },
   "outputs": [],
   "source": [
    "#（没有用动态规划）找规律，划分出尽可能多的3相乘，余数分为0,4,2\n",
    "#然后乘方计算，复杂度log n\n",
    "#(长度不为整数，就划分为多个e相乘）\n",
    "class Solution:\n",
    "    def cutRope(self, number):\n",
    "        #分情况讨论\n",
    "        if number<4:\n",
    "            return number-1\n",
    "        elif number==4:\n",
    "            return 4\n",
    "        else:\n",
    "            if number%3==0:\n",
    "                return 3**(number//3)\n",
    "            elif number%3==2:\n",
    "                return 2*3**(number//3)\n",
    "            else:\n",
    "                return 4*3**(number//3-1)"
   ]
  }
 ],
 "metadata": {
  "kernelspec": {
   "display_name": "Python 3",
   "language": "python",
   "name": "python3"
  },
  "language_info": {
   "codemirror_mode": {
    "name": "ipython",
    "version": 3
   },
   "file_extension": ".py",
   "mimetype": "text/x-python",
   "name": "python",
   "nbconvert_exporter": "python",
   "pygments_lexer": "ipython3",
   "version": "3.6.3"
  }
 },
 "nbformat": 4,
 "nbformat_minor": 2
}
