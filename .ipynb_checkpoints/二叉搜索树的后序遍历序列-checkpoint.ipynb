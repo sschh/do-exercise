{
 "cells": [
  {
   "cell_type": "markdown",
   "metadata": {},
   "source": [
    "### 题目：输入一个整数数组，判断该数组是不是某二叉搜索树的后序遍历的结果。如果是则输出Yes,否则输出No。假设输入的数组的任意两个数字都互不相同。"
   ]
  },
  {
   "cell_type": "code",
   "execution_count": 9,
   "metadata": {
    "collapsed": true
   },
   "outputs": [],
   "source": [
    "# 使用递归\n",
    "# 后序遍历：左-右-中\n",
    "# 二叉搜索树：左节点<根<右节点\n",
    "class Solution:\n",
    "    def VerifySquenceOfBST(self, sequence):\n",
    "        #判断输入是否为空\n",
    "        if sequence==[]:\n",
    "            return False\n",
    "        return self.IsBST(sequence)\n",
    "    \n",
    "    def IsBST(self,array):\n",
    "        right=0\n",
    "        #后序遍历最后元素是根节点，右子树的所有节点都大于根节点，遍历划分左右子树\n",
    "        while (right<len(array)-1):\n",
    "            if array[right]>array[-1]:\n",
    "                break\n",
    "            right+=1\n",
    "        isLeft=isRight=True\n",
    "        #右子树上若有值，且值小于根节点则False\n",
    "        if right!=len(array)-1:\n",
    "            for num in array[right:-1]:\n",
    "                if num<array[-1]:\n",
    "                    return False\n",
    "        #递归判断左子树上的节点\n",
    "        if right!=0:\n",
    "            isLeft=self.IsBST(array[0:right])\n",
    "        #递归判断右子树上的节点\n",
    "        if right!=len(array)-1:\n",
    "            isRight=self.IsBST(array[right:-1])\n",
    "        return (isLeft and isRight)"
   ]
  },
  {
   "cell_type": "code",
   "execution_count": null,
   "metadata": {
    "collapsed": true
   },
   "outputs": [],
   "source": [
    "s=Solution()\n",
    "s.VerifySquenceOfBST([])"
   ]
  }
 ],
 "metadata": {
  "kernelspec": {
   "display_name": "Python 3",
   "language": "python",
   "name": "python3"
  },
  "language_info": {
   "codemirror_mode": {
    "name": "ipython",
    "version": 3
   },
   "file_extension": ".py",
   "mimetype": "text/x-python",
   "name": "python",
   "nbconvert_exporter": "python",
   "pygments_lexer": "ipython3",
   "version": "3.6.3"
  }
 },
 "nbformat": 4,
 "nbformat_minor": 2
}
