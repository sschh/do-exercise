{
 "cells": [
  {
   "cell_type": "markdown",
   "metadata": {},
   "source": [
    "### 题目：给定一个double类型的浮点数base和int类型的整数exponent。求base的exponent次方。保证base和exponent不同时为0"
   ]
  },
  {
   "cell_type": "code",
   "execution_count": 33,
   "metadata": {
    "collapsed": true
   },
   "outputs": [],
   "source": [
    "#分类讨论，然后二分后递归， O(logn)\n",
    "class Solution:\n",
    "    def Power(self, base, exponent):\n",
    "        #若base约等于0\n",
    "        if base>=-1e-10 and base<=1e-10:\n",
    "            #若指数非正，0的负指数，结果返回None\n",
    "            if exponent<=0:\n",
    "                return None\n",
    "            #若指数为正，0的正指数等于0\n",
    "            else:\n",
    "                return 0.00\n",
    "        #若base不等于0：\n",
    "        else:\n",
    "            flag=0\n",
    "            #若指数为0\n",
    "            if exponent==0:\n",
    "                return 1\n",
    "            #指数小于0，取反并标记。正负指数后续处理方法一致。\n",
    "            elif exponent<0:\n",
    "                exponent=(-1)*exponent\n",
    "                flag=1\n",
    "            #递归求解\n",
    "            if exponent%2==0:\n",
    "                result=self.Power(base,exponent/2)*self.Power(base,exponent/2) \n",
    "            else:\n",
    "                result=self.Power(base,exponent//2)*self.Power(base,exponent//2)*base\n",
    "            #若原指数是负数，结果取倒数\n",
    "            return result if flag==0 else 1/result"
   ]
  }
 ],
 "metadata": {
  "kernelspec": {
   "display_name": "Python 3",
   "language": "python",
   "name": "python3"
  },
  "language_info": {
   "codemirror_mode": {
    "name": "ipython",
    "version": 3
   },
   "file_extension": ".py",
   "mimetype": "text/x-python",
   "name": "python",
   "nbconvert_exporter": "python",
   "pygments_lexer": "ipython3",
   "version": "3.6.3"
  }
 },
 "nbformat": 4,
 "nbformat_minor": 2
}
