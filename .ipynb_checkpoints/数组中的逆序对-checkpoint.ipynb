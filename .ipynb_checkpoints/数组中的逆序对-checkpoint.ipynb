{
 "cells": [
  {
   "cell_type": "code",
   "execution_count": 24,
   "metadata": {
    "collapsed": true
   },
   "outputs": [],
   "source": [
    "# -*- coding:utf-8 -*-\n",
    "class Solution:\n",
    "    def __init__(self):\n",
    "        self.count=0\n",
    "    def InversePairs(self,data):\n",
    "        if len(data)<=1:\n",
    "            return 0\n",
    "        self.mergesort(data,0,len(data)-1)\n",
    "        return self.count%1000000007\n",
    "    \n",
    "    def mergesort(self,num,start,end):\n",
    "        if end<=start:\n",
    "            return\n",
    "        else:\n",
    "            mid=(start+end)//2\n",
    "            self.mergesort(num,start,mid)\n",
    "            self.mergesort(num,mid+1,end)\n",
    "            self.merge(num,start,mid,end)\n",
    "    def merge(self,num,start,mid,end):\n",
    "        global count\n",
    "        temp=[]\n",
    "        i=start\n",
    "        j=mid+1\n",
    "        k=0\n",
    "        while i<=mid and j<=end:\n",
    "            if num[i]>num[j]:\n",
    "                temp.append(num[j])\n",
    "                self.count+=(mid-i+1)\n",
    "                j+=1\n",
    "                k+=1\n",
    "            else:\n",
    "                temp.append(num[i])\n",
    "                i+=1\n",
    "                k+=1\n",
    "        temp+=(num[i:mid+1]+num[j:end+1])\n",
    "        num[start:end+1]=temp"
   ]
  },
  {
   "cell_type": "code",
   "execution_count": 31,
   "metadata": {
    "collapsed": true
   },
   "outputs": [],
   "source": [
    "#评论中的答案\n",
    "count = 0\n",
    "class Solution:\n",
    "    def InversePairs(self, data):\n",
    "        global count\n",
    "        def MergeSort(lists):\n",
    "            global count\n",
    "            if len(lists) <= 1:\n",
    "                return lists\n",
    "            num = int( len(lists)/2 )\n",
    "            left = MergeSort(lists[:num])\n",
    "            right = MergeSort(lists[num:])\n",
    "            r, l=0, 0\n",
    "            result=[]\n",
    "            while l<len(left) and r<len(right):\n",
    "                if left[l] <= right[r]:\n",
    "                    result.append(left[l])\n",
    "                    l += 1\n",
    "                else:\n",
    "                    result.append(right[r])\n",
    "                    r += 1\n",
    "                    count += len(left)-l\n",
    "            result += right[r:]\n",
    "            result += left[l:]\n",
    "            return result\n",
    "        MergeSort(data)\n",
    "        return count%1000000007"
   ]
  }
 ],
 "metadata": {
  "kernelspec": {
   "display_name": "Python 3",
   "language": "python",
   "name": "python3"
  },
  "language_info": {
   "codemirror_mode": {
    "name": "ipython",
    "version": 3
   },
   "file_extension": ".py",
   "mimetype": "text/x-python",
   "name": "python",
   "nbconvert_exporter": "python",
   "pygments_lexer": "ipython3",
   "version": "3.6.3"
  }
 },
 "nbformat": 4,
 "nbformat_minor": 2
}
