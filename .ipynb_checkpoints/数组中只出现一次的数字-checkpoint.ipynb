{
 "cells": [
  {
   "cell_type": "markdown",
   "metadata": {},
   "source": [
    "### 题目：一个整型数组里除了两个数字之外，其他的数字都出现了两次。请写程序找出这两个只出现一次的数字。"
   ]
  },
  {
   "cell_type": "code",
   "execution_count": 5,
   "metadata": {
    "collapsed": true
   },
   "outputs": [],
   "source": [
    "#使用字典存储，若字典里没有，加入字典；若字典里有，删除键值对，最后字典里只剩下仅出现依次的数字\n",
    "#另一种方法：栈。\n",
    "class Solution:\n",
    "    # 返回[a,b] 其中ab是出现一次的两个数字\n",
    "    def FindNumsAppearOnce(self, array):\n",
    "        #若输入为空\n",
    "        if not array:return []\n",
    "        #输入为单元素\n",
    "        if len(array)==1:return array\n",
    "        numdic={}\n",
    "        for num in array:\n",
    "            if num not in numdic.keys():\n",
    "                numdic[num]=1\n",
    "            else:\n",
    "                #若存在字典中，直接删除键值对\n",
    "                del numdic[num]\n",
    "        #返回键\n",
    "        return list(numdic.keys())"
   ]
  }
 ],
 "metadata": {
  "kernelspec": {
   "display_name": "Python 3",
   "language": "python",
   "name": "python3"
  },
  "language_info": {
   "codemirror_mode": {
    "name": "ipython",
    "version": 3
   },
   "file_extension": ".py",
   "mimetype": "text/x-python",
   "name": "python",
   "nbconvert_exporter": "python",
   "pygments_lexer": "ipython3",
   "version": "3.6.3"
  }
 },
 "nbformat": 4,
 "nbformat_minor": 2
}
