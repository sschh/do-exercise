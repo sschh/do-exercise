{
 "cells": [
  {
   "cell_type": "markdown",
   "metadata": {},
   "source": [
    "### 题目：给定一棵二叉搜索树，请找出其中的第k小的结点。例如， （5，3，7，2，4，6，8）    中，按结点数值大小顺序第三小结点的值为4。"
   ]
  },
  {
   "cell_type": "code",
   "execution_count": 59,
   "metadata": {
    "collapsed": true
   },
   "outputs": [],
   "source": [
    "#class TreeNode:\n",
    "#    def __init__(self, x):\n",
    "#        self.val = x\n",
    "#        self.left = None\n",
    "#        self.right = None\n",
    "\n",
    "#中序遍历是从小到大排列节点值\n",
    "class Solution:\n",
    "    # 返回对应节点TreeNode\n",
    "    def KthNode(self, pRoot, k):\n",
    "        #判断边际情况\n",
    "        if k<=0 or not pRoot:return None\n",
    "        #将按顺序遍历的节点存入result\n",
    "        result=[]\n",
    "        self.inorder(pRoot,result,k)\n",
    "        #第k小就是列表中第k-1个\n",
    "        return result[k-1] if k<=len(result) else None\n",
    "    #中序遍历\n",
    "    def inorder(self,root,result,k):\n",
    "        if root and k>len(result):\n",
    "            self.inorder(root.left,result,k)\n",
    "            result.append(root)\n",
    "            self.inorder(root.right,result,k)"
   ]
  }
 ],
 "metadata": {
  "kernelspec": {
   "display_name": "Python 3",
   "language": "python",
   "name": "python3"
  },
  "language_info": {
   "codemirror_mode": {
    "name": "ipython",
    "version": 3
   },
   "file_extension": ".py",
   "mimetype": "text/x-python",
   "name": "python",
   "nbconvert_exporter": "python",
   "pygments_lexer": "ipython3",
   "version": "3.6.3"
  }
 },
 "nbformat": 4,
 "nbformat_minor": 2
}
