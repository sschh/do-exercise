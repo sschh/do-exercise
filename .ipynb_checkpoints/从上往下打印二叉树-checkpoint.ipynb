{
 "cells": [
  {
   "cell_type": "markdown",
   "metadata": {},
   "source": [
    "### 题目：从上往下打印出二叉树的每个节点，同层节点从左至右打印。"
   ]
  },
  {
   "cell_type": "code",
   "execution_count": null,
   "metadata": {
    "collapsed": true
   },
   "outputs": [],
   "source": [
    "# class TreeNode:\n",
    "#     def __init__(self, x):\n",
    "#         self.val = x\n",
    "#         self.left = None\n",
    "#         self.right = None\n",
    "\n",
    "#层序遍历\n",
    "#队列\n",
    "class Solution:\n",
    "    # 返回从上到下每个节点值列表，例：[1,2,3]\n",
    "    def PrintFromTopToBottom(self, root):\n",
    "        if not root:return []\n",
    "        #存储节点\n",
    "        buffer=[root]\n",
    "        for node in buffer:\n",
    "            #若节点存在，则加入队列，先左后右\n",
    "            if node.left:\n",
    "                buffer.append(node.left)\n",
    "            if node.right:\n",
    "                buffer.append(node.right)\n",
    "        #返回节点值\n",
    "        return [node.val for node in buffer]"
   ]
  }
 ],
 "metadata": {
  "kernelspec": {
   "display_name": "Python 3",
   "language": "python",
   "name": "python3"
  },
  "language_info": {
   "codemirror_mode": {
    "name": "ipython",
    "version": 3
   },
   "file_extension": ".py",
   "mimetype": "text/x-python",
   "name": "python",
   "nbconvert_exporter": "python",
   "pygments_lexer": "ipython3",
   "version": "3.6.3"
  }
 },
 "nbformat": 4,
 "nbformat_minor": 2
}
