{
 "cells": [
  {
   "cell_type": "markdown",
   "metadata": {},
   "source": [
    "### 题目：给定一个二叉树和其中的一个结点，请找出中序遍历顺序的下一个结点并且返回。注意，树中的结点不仅包含左右子结点，同时包含指向父结点的指针。"
   ]
  },
  {
   "cell_type": "code",
   "execution_count": 8,
   "metadata": {
    "collapsed": true
   },
   "outputs": [],
   "source": [
    "#class TreeLinkNode:\n",
    "#     def __init__(self, x):\n",
    "#        self.val = x\n",
    "#        self.left = None\n",
    "#        self.right = None\n",
    "#        self.next = None\n",
    "\n",
    "#方法一：回溯，找到根节点，中序遍历二叉树，存储\n",
    "#       时间复杂度：O(N)   空间复杂度：O(N)\n",
    "#方法二：①判断是否有右字节点，若有，则返回右子树最左边节点；\n",
    "#        ②若没有，判断该节点父节点的左子节点是否是该节点，若是，返回父节点；否则向更上层回溯，找到位于该节点右边的第一个父辈节点\n",
    "#       时间复杂度：O(N)   空间复杂度：O(1)\n",
    "class Solution:\n",
    "    def GetNext(self, pNode):\n",
    "        if not pNode:return None\n",
    "        #若存在右子节点\n",
    "        if pNode.right:\n",
    "            Node=pNode.right\n",
    "            while Node.left:\n",
    "                Node=Node.left\n",
    "            return Node\n",
    "        else:\n",
    "            Node=pNode\n",
    "            while Node.next:\n",
    "                #若父节点的左子节点是当前节点，返回父节点\n",
    "                if Node.next.left==Node:\n",
    "                    return Node.next\n",
    "                else:\n",
    "                    Node=Node.next\n",
    "            return Node.next  "
   ]
  }
 ],
 "metadata": {
  "kernelspec": {
   "display_name": "Python 3",
   "language": "python",
   "name": "python3"
  },
  "language_info": {
   "codemirror_mode": {
    "name": "ipython",
    "version": 3
   },
   "file_extension": ".py",
   "mimetype": "text/x-python",
   "name": "python",
   "nbconvert_exporter": "python",
   "pygments_lexer": "ipython3",
   "version": "3.6.3"
  }
 },
 "nbformat": 4,
 "nbformat_minor": 2
}
