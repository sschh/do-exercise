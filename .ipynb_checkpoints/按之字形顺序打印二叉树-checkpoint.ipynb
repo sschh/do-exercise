{
 "cells": [
  {
   "cell_type": "code",
   "execution_count": 22,
   "metadata": {},
   "outputs": [],
   "source": [
    "class TreeNode:\n",
    "     def __init__(self, x):\n",
    "            self.val = x\n",
    "            self.left = None\n",
    "            self.right = None\n",
    "class Solution:\n",
    "    def Print(self, pRoot):\n",
    "        if not pRoot:return []\n",
    "        stack1=[]\n",
    "        stack2=[pRoot]\n",
    "        result=[]\n",
    "        while stack1 or stack2:\n",
    "            tempresult=[]\n",
    "            if stack1:\n",
    "                while stack1:\n",
    "                    temp=stack1.pop()\n",
    "                    tempresult.append(temp.val)\n",
    "                    if temp.right:stack2.append(temp.right)\n",
    "                    if temp.left:stack2.append(temp.left)\n",
    "                result.append(tempresult)\n",
    "            else:\n",
    "                while stack2:\n",
    "                    temp=stack2.pop()\n",
    "                    tempresult.append(temp.val)\n",
    "                    if temp.left:stack1.append(temp.left)\n",
    "                    if temp.right:stack1.append(temp.right)\n",
    "                result.append(tempresult)\n",
    "        return result\n",
    "        "
   ]
  }
 ],
 "metadata": {
  "kernelspec": {
   "display_name": "Python 3",
   "language": "python",
   "name": "python3"
  },
  "language_info": {
   "codemirror_mode": {
    "name": "ipython",
    "version": 3
   },
   "file_extension": ".py",
   "mimetype": "text/x-python",
   "name": "python",
   "nbconvert_exporter": "python",
   "pygments_lexer": "ipython3",
   "version": "3.6.3"
  }
 },
 "nbformat": 4,
 "nbformat_minor": 2
}
