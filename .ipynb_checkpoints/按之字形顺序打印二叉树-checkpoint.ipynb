{
 "cells": [
  {
   "cell_type": "markdown",
   "metadata": {},
   "source": [
    "### 题目：请实现一个函数按照之字形打印二叉树，即第一行按照从左到右的顺序打印，第二层按照从右至左的顺序打印，第\n",
    "### 三行按照从左到右的顺序打印，其他行以此类推。"
   ]
  },
  {
   "cell_type": "code",
   "execution_count": 22,
   "metadata": {
    "collapsed": true
   },
   "outputs": [],
   "source": [
    "#class TreeNode:\n",
    "#     def __init__(self, x):\n",
    "#            self.val = x\n",
    "#            self.left = None\n",
    "#            self.right = None\n",
    "\n",
    "#用两个栈，分别代表奇数行和偶数行。一个先存右子节点，一个先存左子节点。\n",
    "#注意：输出结果的格式，list套list。输入为空，输出为[]\n",
    "\n",
    "\n",
    "class Solution:\n",
    "    def Print(self, pRoot):\n",
    "        #输入为空，返回空list\n",
    "        if not pRoot:return []\n",
    "        #存储偶数层，从右往左打印\n",
    "        stack1=[]\n",
    "        #存储奇数层，从左往右打印，初始化加入根节点\n",
    "        stack2=[pRoot]\n",
    "        result=[]\n",
    "        #若两个栈不都空，说明还有层没有打印\n",
    "        while stack1 or stack2:\n",
    "            #暂存当前层\n",
    "            tempresult=[]\n",
    "            #若stack1非空\n",
    "            if stack1:\n",
    "                while stack1:\n",
    "                    temp=stack1.pop()\n",
    "                    tempresult.append(temp.val)\n",
    "                    #下一层为奇数层，从右往左进栈，则出栈从左往右打印\n",
    "                    if temp.right:stack2.append(temp.right)\n",
    "                    if temp.left:stack2.append(temp.left)\n",
    "            #stack1为空时，stack2必不空\n",
    "            else:\n",
    "                while stack2:\n",
    "                    temp=stack2.pop()\n",
    "                    tempresult.append(temp.val)\n",
    "                    #下一层为偶数层，从左往右进栈，则出栈从右往左打印\n",
    "                    if temp.left:stack1.append(temp.left)\n",
    "                    if temp.right:stack1.append(temp.right)\n",
    "            result.append(tempresult)\n",
    "        return result\n",
    "        "
   ]
  }
 ],
 "metadata": {
  "kernelspec": {
   "display_name": "Python 3",
   "language": "python",
   "name": "python3"
  },
  "language_info": {
   "codemirror_mode": {
    "name": "ipython",
    "version": 3
   },
   "file_extension": ".py",
   "mimetype": "text/x-python",
   "name": "python",
   "nbconvert_exporter": "python",
   "pygments_lexer": "ipython3",
   "version": "3.6.3"
  }
 },
 "nbformat": 4,
 "nbformat_minor": 2
}
