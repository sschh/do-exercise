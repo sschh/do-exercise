{
 "cells": [
  {
   "cell_type": "markdown",
   "metadata": {},
   "source": [
    "### 题目：定义栈的数据结构，请在该类型中实现一个能够得到栈中所含最小元素的min函数（时间复杂度应为O（1））。"
   ]
  },
  {
   "cell_type": "code",
   "execution_count": 11,
   "metadata": {
    "collapsed": true
   },
   "outputs": [],
   "source": [
    "#将当前时刻最小元素放入另一个栈中，两个栈大小一致\n",
    "class Solution:\n",
    "    def __init__(self):\n",
    "        self.item=[]\n",
    "        self.minn=[]\n",
    "    def push(self, node):\n",
    "        self.item.append(node)\n",
    "        if self.minn!=[]:\n",
    "            #比较最小元素和加入节点的大小\n",
    "            if self.min()<node:\n",
    "                self.minn.append(self.min())\n",
    "            else:\n",
    "                self.minn.append(node)\n",
    "        else:\n",
    "            self.minn.append(node)\n",
    "    def pop(self):\n",
    "        if not self.item:\n",
    "            return None\n",
    "        self.minn.pop() \n",
    "        return self.item.pop()\n",
    "    def top(self):\n",
    "        if not self.item:\n",
    "            return None\n",
    "        return self.item[-1]\n",
    "    def min(self):\n",
    "        if not self.minn:\n",
    "            return None\n",
    "        return self.minn[-1]"
   ]
  }
 ],
 "metadata": {
  "kernelspec": {
   "display_name": "Python 3",
   "language": "python",
   "name": "python3"
  },
  "language_info": {
   "codemirror_mode": {
    "name": "ipython",
    "version": 3
   },
   "file_extension": ".py",
   "mimetype": "text/x-python",
   "name": "python",
   "nbconvert_exporter": "python",
   "pygments_lexer": "ipython3",
   "version": "3.6.3"
  }
 },
 "nbformat": 4,
 "nbformat_minor": 2
}
