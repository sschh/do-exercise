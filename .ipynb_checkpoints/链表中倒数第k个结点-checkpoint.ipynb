{
 "cells": [
  {
   "cell_type": "code",
   "execution_count": 24,
   "metadata": {
    "collapsed": true
   },
   "outputs": [],
   "source": [
    "# -*- coding:utf-8 -*-\n",
    "class ListNode:\n",
    "    def __init__(self, x):\n",
    "        self.val = x        \n",
    "        self.next = None\n",
    "\n",
    "class Solution:\n",
    "    def FindKthToTail(self, head, k):\n",
    "        count=self.Size(head)\n",
    "        if count==0 or k>count:#链表长度为0，或k大于链表长度\n",
    "            return None\n",
    "        elif count>1:\n",
    "            for i in range(1,count-k+1):\n",
    "                head=head.next\n",
    "        return head\n",
    "    \n",
    "    def Size(self,head):\n",
    "        if head==None:\n",
    "            return 0\n",
    "        count=1\n",
    "        while head.next!=None:\n",
    "            count+=1\n",
    "            head=head.next\n",
    "        return count"
   ]
  },
  {
   "cell_type": "code",
   "execution_count": 25,
   "metadata": {},
   "outputs": [
    {
     "data": {
      "text/plain": [
       "2"
      ]
     },
     "execution_count": 25,
     "metadata": {},
     "output_type": "execute_result"
    }
   ],
   "source": [
    "a=ListNode(1)\n",
    "b=ListNode(2)\n",
    "c=ListNode(3)\n",
    "a.next=b\n",
    "b.next=c\n",
    "s=Solution()\n",
    "s.FindKthToTail(a,2)"
   ]
  }
 ],
 "metadata": {
  "kernelspec": {
   "display_name": "Python 3",
   "language": "python",
   "name": "python3"
  },
  "language_info": {
   "codemirror_mode": {
    "name": "ipython",
    "version": 3
   },
   "file_extension": ".py",
   "mimetype": "text/x-python",
   "name": "python",
   "nbconvert_exporter": "python",
   "pygments_lexer": "ipython3",
   "version": "3.6.3"
  }
 },
 "nbformat": 4,
 "nbformat_minor": 2
}
