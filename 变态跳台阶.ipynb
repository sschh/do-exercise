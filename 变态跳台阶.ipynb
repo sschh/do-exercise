{
 "cells": [
  {
   "cell_type": "markdown",
   "metadata": {},
   "source": [
    "### 题目：一只青蛙一次可以跳上1级台阶，也可以跳上2级……它也可以跳上n级。求该青蛙跳上一个n级的台阶总共有多少种跳法。"
   ]
  },
  {
   "cell_type": "code",
   "execution_count": null,
   "metadata": {
    "collapsed": true
   },
   "outputs": [],
   "source": [
    "# 跳到第n阶的跳法=2*跳到第n-1阶\n",
    "#也可以理解为每层阶梯跳或不跳两个状态，则第n个的跳法是前n-1个阶梯跳或不跳：2^(n-1)\n",
    "class Solution:\n",
    "    def jumpFloorII(self, number):\n",
    "        state=[1,2]\n",
    "        for i in range(2,number):\n",
    "            state.append(2*state[i-1])\n",
    "        #从第0位开始存储的\n",
    "        return state[number-1]"
   ]
  }
 ],
 "metadata": {
  "kernelspec": {
   "display_name": "Python 3",
   "language": "python",
   "name": "python3"
  },
  "language_info": {
   "codemirror_mode": {
    "name": "ipython",
    "version": 3
   },
   "file_extension": ".py",
   "mimetype": "text/x-python",
   "name": "python",
   "nbconvert_exporter": "python",
   "pygments_lexer": "ipython3",
   "version": "3.6.3"
  }
 },
 "nbformat": 4,
 "nbformat_minor": 2
}
