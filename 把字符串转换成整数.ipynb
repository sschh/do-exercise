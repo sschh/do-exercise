{
 "cells": [
  {
   "cell_type": "markdown",
   "metadata": {},
   "source": [
    "### 题目：输入一个字符串,包括数字字母符号,可以为空。如果是合法的数值表达则返回该数字，否则返回0"
   ]
  },
  {
   "cell_type": "code",
   "execution_count": 1,
   "metadata": {
    "collapsed": true
   },
   "outputs": [],
   "source": [
    "#可以使用ascii码判断：- ：45   +：43   0~9 ：48~57\n",
    "#首位单独考虑，因为正负号只能在首位出现\n",
    "#注意：①int的取值范围为: -2^31——2^31-1,即-2147483648——2147483647   ②注意字符串长度为1或0的情况\n",
    "\n",
    "class Solution:\n",
    "    def StrToInt(self, s):\n",
    "        if not s or s=='0':return 0\n",
    "        sign=0\n",
    "        length=len(s)\n",
    "        for i in range(length):\n",
    "            #判断第1位\n",
    "            if i==0:\n",
    "                #若负号\n",
    "                if ord(s[i])==45:\n",
    "                    sign=-1\n",
    "                #若正好\n",
    "                elif ord(s[i])==43:\n",
    "                    sign=1\n",
    "                #若不是数字\n",
    "                elif ord(s[i])<48 or ord(s[i])>57:\n",
    "                    return 0\n",
    "            else:\n",
    "                if ord(s[i])<48 or ord(s[i])>57:\n",
    "                    return 0\n",
    "        #若守卫不是符号\n",
    "        if sign==0:\n",
    "            result=int(s)\n",
    "        #若首位是符号\n",
    "        else:\n",
    "            #若字符串长度为1，则只有符号\n",
    "            if length==1:return 0 \n",
    "            result=sign*int(s[1:])\n",
    "        if result>2147483647 or result<-2147483648:\n",
    "            return 0\n",
    "        else:\n",
    "            return result\n",
    "                    "
   ]
  }
 ],
 "metadata": {
  "kernelspec": {
   "display_name": "Python 3",
   "language": "python",
   "name": "python3"
  },
  "language_info": {
   "codemirror_mode": {
    "name": "ipython",
    "version": 3
   },
   "file_extension": ".py",
   "mimetype": "text/x-python",
   "name": "python",
   "nbconvert_exporter": "python",
   "pygments_lexer": "ipython3",
   "version": "3.6.3"
  }
 },
 "nbformat": 4,
 "nbformat_minor": 2
}
