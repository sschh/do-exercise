{
 "cells": [
  {
   "cell_type": "code",
   "execution_count": 1,
   "metadata": {
    "collapsed": true
   },
   "outputs": [],
   "source": [
    "# -*- coding:utf-8 -*-\n",
    "class Solution:\n",
    "    def StrToInt(self, s):\n",
    "        if not s:return 0\n",
    "        if s=='0':return 0\n",
    "        sign=0\n",
    "        length=len(s)\n",
    "        if length==1:\n",
    "            if ord(s)<48 or ord(s)>57:\n",
    "                return 0\n",
    "            else:\n",
    "                return int(s)\n",
    "        for i in range(length):\n",
    "            if i==0:\n",
    "                if ord(s[i])==45:\n",
    "                    sign=-1\n",
    "                elif ord(s[i])==43:\n",
    "                    sign=1\n",
    "                elif ord(s[i])<48 or ord(s[i])>57:\n",
    "                    return 0\n",
    "            else:\n",
    "                if ord(s[i])<48 or ord(s[i])>57:\n",
    "                    return 0\n",
    "        if sign==0:\n",
    "            result=int(s)\n",
    "        else:\n",
    "            result=sign*int(s[1:])\n",
    "        if result>2147483647 or result<-2147483648:\n",
    "            return 0\n",
    "        else:\n",
    "            return result\n",
    "                    "
   ]
  },
  {
   "cell_type": "code",
   "execution_count": 8,
   "metadata": {},
   "outputs": [
    {
     "data": {
      "text/plain": [
       "-123456"
      ]
     },
     "execution_count": 8,
     "metadata": {},
     "output_type": "execute_result"
    }
   ],
   "source": [
    "s=Solution()\n",
    "s.StrToInt(\"-123456\")"
   ]
  }
 ],
 "metadata": {
  "kernelspec": {
   "display_name": "Python 3",
   "language": "python",
   "name": "python3"
  },
  "language_info": {
   "codemirror_mode": {
    "name": "ipython",
    "version": 3
   },
   "file_extension": ".py",
   "mimetype": "text/x-python",
   "name": "python",
   "nbconvert_exporter": "python",
   "pygments_lexer": "ipython3",
   "version": "3.6.3"
  }
 },
 "nbformat": 4,
 "nbformat_minor": 2
}
