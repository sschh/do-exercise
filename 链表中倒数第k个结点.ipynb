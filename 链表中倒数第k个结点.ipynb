{
 "cells": [
  {
   "cell_type": "markdown",
   "metadata": {},
   "source": [
    "### 题目：输入一个链表，输出该链表中倒数第k个结点。"
   ]
  },
  {
   "cell_type": "code",
   "execution_count": 24,
   "metadata": {
    "collapsed": true
   },
   "outputs": [],
   "source": [
    "#class ListNode:\n",
    "#    def __init__(self, x):\n",
    "#        self.val = x        \n",
    "#        self.next = None\n",
    "\n",
    "#方法一：统计列表长度后，顺序遍历至倒数第k个节点\n",
    "#方法二：双指针法，p2指针先移动k-1次，指向第k个节点，然后p1和p2同时移动，当p2指向最后一个节点时，p1指向即所求。\n",
    "\n",
    "class Solution:\n",
    "    def FindKthToTail(self, head, k):\n",
    "        count=self.Size(head)\n",
    "        #链表长度为0，或k大于链表长度\n",
    "        if count==0 or k>count:\n",
    "            return None\n",
    "        elif count>1:\n",
    "            #找到第count-k+1个节点\n",
    "            for i in range(1,count-k+1):\n",
    "                head=head.next\n",
    "        return head\n",
    "    #再声明一个函数统计链表长度\n",
    "    def Size(self,head):\n",
    "        if not head:return 0\n",
    "        count=1\n",
    "        #统计节点数\n",
    "        while not head.next:\n",
    "            count+=1\n",
    "            head=head.next\n",
    "        return count"
   ]
  }
 ],
 "metadata": {
  "kernelspec": {
   "display_name": "Python 3",
   "language": "python",
   "name": "python3"
  },
  "language_info": {
   "codemirror_mode": {
    "name": "ipython",
    "version": 3
   },
   "file_extension": ".py",
   "mimetype": "text/x-python",
   "name": "python",
   "nbconvert_exporter": "python",
   "pygments_lexer": "ipython3",
   "version": "3.6.3"
  }
 },
 "nbformat": 4,
 "nbformat_minor": 2
}
