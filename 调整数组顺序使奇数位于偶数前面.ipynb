{
 "cells": [
  {
   "cell_type": "markdown",
   "metadata": {},
   "source": [
    "### 题目：输入一个整数数组，实现一个函数来调整该数组中数字的顺序，使得所有的奇数位于数组的前半部分，所有的偶数位于数组的后半部分，并保证奇数和奇数，偶数和偶数之间的相对位置不变。"
   ]
  },
  {
   "cell_type": "code",
   "execution_count": 1,
   "metadata": {
    "collapsed": true
   },
   "outputs": [],
   "source": [
    "#通过冒泡法分别将所有奇数和偶数依次填入位置，保证相对位置不变\n",
    "class Solution:\n",
    "    def reOrderArray(self, array):\n",
    "        #标记奇数存储位置\n",
    "        spoint=0\n",
    "        #标记偶数存储位置\n",
    "        dpoint=1\n",
    "        for i in range(len(array)):\n",
    "            #若当前为奇数，将\n",
    "            if array[i]%2==1:\n",
    "                for j in range(i,spoint,-1):\n",
    "                    array[j],array[j-1]=array[j-1],array[j]\n",
    "                #奇偶标记均后移，保证了偶数在奇数后面，即序列小于spoint的必然是奇数\n",
    "                spoint+=1\n",
    "                dpoint+=1\n",
    "            else:\n",
    "                for j in range(i,dpoint,-1):\n",
    "                    array[j],array[j-1]=array[j-1],array[j]\n",
    "                dpoint+=1\n",
    "        return array"
   ]
  }
 ],
 "metadata": {
  "kernelspec": {
   "display_name": "Python 3",
   "language": "python",
   "name": "python3"
  },
  "language_info": {
   "codemirror_mode": {
    "name": "ipython",
    "version": 3
   },
   "file_extension": ".py",
   "mimetype": "text/x-python",
   "name": "python",
   "nbconvert_exporter": "python",
   "pygments_lexer": "ipython3",
   "version": "3.6.3"
  }
 },
 "nbformat": 4,
 "nbformat_minor": 2
}
