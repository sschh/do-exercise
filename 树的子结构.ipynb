{
 "cells": [
  {
   "cell_type": "markdown",
   "metadata": {},
   "source": [
    "### 题目：输入两棵二叉树A，B，判断B是不是A的子结构。（ps：我们约定空树不是任意一个树的子结构）"
   ]
  },
  {
   "cell_type": "code",
   "execution_count": 10,
   "metadata": {
    "collapsed": true
   },
   "outputs": [],
   "source": [
    "#递归\n",
    "class Solution:\n",
    "    def HasSubtree(self, pRoot1, pRoot2):\n",
    "        #若有根为空\n",
    "        if pRoot2==None or pRoot1==None:\n",
    "            return False\n",
    "        #分别递归判断p2是不是p1根、左子树、右子树的子结构\n",
    "        return self.Judge(pRoot1,pRoot2) or self.Judge(pRoot1.left,pRoot2) or self.Judge(pRoot1.right,pRoot2)\n",
    "    \n",
    "    def Judge(self,p1,p2):\n",
    "        #注意下面两个if的顺序不能改变，因为对p1判断的基础是p2非空\n",
    "        if not p2:\n",
    "        #若p2没有，无论p1是否非空，都是子结构\n",
    "            return True\n",
    "        if not p1:\n",
    "        #若p1没有了，但是p2有\n",
    "            return False\n",
    "        #若对应位置值不相等，分别从p1左右子树重新对p2判断\n",
    "        if p1.val!=p2.val:\n",
    "            return self.Judge(p1.left,p2) or self.Judge(p1.right,p2)\n",
    "        #若对应位置相等，判断p1左节点和p2左节点，p1右节点和p2右节点\n",
    "        return self.Judge(p1.left,p2.left) and self.Judge(p1.right,p2.right) "
   ]
  }
 ],
 "metadata": {
  "kernelspec": {
   "display_name": "Python 3",
   "language": "python",
   "name": "python3"
  },
  "language_info": {
   "codemirror_mode": {
    "name": "ipython",
    "version": 3
   },
   "file_extension": ".py",
   "mimetype": "text/x-python",
   "name": "python",
   "nbconvert_exporter": "python",
   "pygments_lexer": "ipython3",
   "version": "3.6.3"
  }
 },
 "nbformat": 4,
 "nbformat_minor": 2
}
