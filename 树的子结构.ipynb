{
 "cells": [
  {
   "cell_type": "code",
   "execution_count": 2,
   "metadata": {
    "collapsed": true
   },
   "outputs": [],
   "source": [
    "# -*- coding:utf-8 -*-\n",
    "class TreeNode:\n",
    "     def __init__(self,x):\n",
    "            self.val = x\n",
    "            self.left = None\n",
    "            self.right = None      "
   ]
  },
  {
   "cell_type": "code",
   "execution_count": 10,
   "metadata": {},
   "outputs": [],
   "source": [
    "class Solution:\n",
    "    def HasSubtree(self, pRoot1, pRoot2):\n",
    "        if pRoot2==None or pRoot1==None:\n",
    "            return False\n",
    "        return self.Judge(pRoot1,pRoot2) or self.Judge(pRoot1.left,pRoot2) or self.Judge(pRoot1.right,pRoot2)\n",
    "    \n",
    "    def Judge(self,p1,p2):\n",
    "        if not p2:\n",
    "            return True\n",
    "        if not p1:\n",
    "            return False\n",
    "        if p1.val!=p2.val:\n",
    "            return self.Judge(p1.left,p2) or self.Judge(p1.right,p2)\n",
    "        return self.Judge(p1.left,p2.left) and self.Judge(p1.right,p2.right) \n",
    "        \n",
    "      "
   ]
  },
  {
   "cell_type": "code",
   "execution_count": 22,
   "metadata": {
    "collapsed": true
   },
   "outputs": [],
   "source": [
    "class Solution:\n",
    "    def HasSubtree(self, pRoot1, pRoot2):\n",
    "        if pRoot2==None or pRoot1==None:\n",
    "            return False\n",
    "        p1=[]\n",
    "        p2=[]\n",
    "        self.GetAll(pRoot1,p1)\n",
    "        self.GetAll(pRoot2,p2)\n",
    "        j=0\n",
    "        for i in range(len(p1)):\n",
    "            if p2[j]==p1[i]:\n",
    "                j+=1\n",
    "            else:\n",
    "                if j!=0:\n",
    "                    j=0\n",
    "                    i-=1\n",
    "            if j==len(p2):\n",
    "                return True\n",
    "        return False\n",
    "                \n",
    "    def GetAll(self,root,a):\n",
    "        if root:\n",
    "            a.append(root.val)\n",
    "            self.GetAll(root.left,a)\n",
    "            self.GetAll(root.right,a)"
   ]
  },
  {
   "cell_type": "code",
   "execution_count": 11,
   "metadata": {},
   "outputs": [
    {
     "data": {
      "text/plain": [
       "True"
      ]
     },
     "execution_count": 11,
     "metadata": {},
     "output_type": "execute_result"
    }
   ],
   "source": [
    "x=TreeNode(1)\n",
    "y=TreeNode(2)\n",
    "z=TreeNode(3)\n",
    "o=TreeNode(4)\n",
    "p=TreeNode(5)\n",
    "zz=TreeNode(2)\n",
    "oo=TreeNode(4)\n",
    "pp=TreeNode(5)\n",
    "x.left=y\n",
    "x.right=z\n",
    "y.left=o\n",
    "y.right=p\n",
    "zz.left=oo\n",
    "zz.right=pp\n",
    "s=Solution()\n",
    "s.HasSubtree(x,zz)\n"
   ]
  },
  {
   "cell_type": "code",
   "execution_count": null,
   "metadata": {
    "collapsed": true
   },
   "outputs": [],
   "source": []
  }
 ],
 "metadata": {
  "kernelspec": {
   "display_name": "Python 3",
   "language": "python",
   "name": "python3"
  },
  "language_info": {
   "codemirror_mode": {
    "name": "ipython",
    "version": 3
   },
   "file_extension": ".py",
   "mimetype": "text/x-python",
   "name": "python",
   "nbconvert_exporter": "python",
   "pygments_lexer": "ipython3",
   "version": "3.6.3"
  }
 },
 "nbformat": 4,
 "nbformat_minor": 2
}
