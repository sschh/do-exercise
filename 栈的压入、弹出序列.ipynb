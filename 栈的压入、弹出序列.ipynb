{
 "cells": [
  {
   "cell_type": "markdown",
   "metadata": {},
   "source": [
    "### 题目：输入两个整数序列，第一个序列表示栈的压入顺序，请判断第二个序列是否可能为该栈的弹出顺序。假设压入栈的\n",
    "### 所有数字均不相等。例如序列1,2,3,4,5是某栈的压入顺序，序列4,5,3,2,1是该压栈序列对应的一个弹出序列，但4,3,5,1,2\n",
    "### 就不可能是该压栈序列的弹出序列。（注意：这两个序列的长度是相等的）"
   ]
  },
  {
   "cell_type": "code",
   "execution_count": 53,
   "metadata": {
    "collapsed": true
   },
   "outputs": [],
   "source": [
    "#使用一个缓存栈用来进出元素，最后若该栈为空，则可以进栈和弹出所有元素\n",
    "class Solution:\n",
    "    def IsPopOrder(self, pushV, popV):\n",
    "        #输入判断\n",
    "        if pushV==[] or popV==[] or len(pushV)!=len(popV):\n",
    "            return False\n",
    "        stack=[]\n",
    "        for i in pushV:\n",
    "            #pushV从左到右进入stack\n",
    "            stack.append(i)\n",
    "            #若stack非空且stack顶层是该出栈的元素\n",
    "            while stack and stack[-1]==popV[0]:\n",
    "                #stack顶层出栈\n",
    "                stack.pop()\n",
    "                #出栈顺序第一个元素去除\n",
    "                popV.pop(0)\n",
    "        return not stack"
   ]
  }
 ],
 "metadata": {
  "kernelspec": {
   "display_name": "Python 3",
   "language": "python",
   "name": "python3"
  },
  "language_info": {
   "codemirror_mode": {
    "name": "ipython",
    "version": 3
   },
   "file_extension": ".py",
   "mimetype": "text/x-python",
   "name": "python",
   "nbconvert_exporter": "python",
   "pygments_lexer": "ipython3",
   "version": "3.6.3"
  }
 },
 "nbformat": 4,
 "nbformat_minor": 2
}
