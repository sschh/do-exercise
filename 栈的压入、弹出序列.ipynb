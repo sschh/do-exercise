{
 "cells": [
  {
   "cell_type": "code",
   "execution_count": 53,
   "metadata": {},
   "outputs": [],
   "source": [
    "# -*- coding:utf-8 -*-\n",
    "class Solution:\n",
    "    def IsPopOrder(self, pushV, popV):\n",
    "        if pushV==[] or popV==[] or len(pushV)!=len(popV):\n",
    "            return False\n",
    "        i=0\n",
    "        try:\n",
    "            j=pushV.index(popV[i])\n",
    "        except:\n",
    "            return False\n",
    "        #将push分断\n",
    "        left=j-1\n",
    "        right=j\n",
    "        while(i<len(popV)):\n",
    "            l_flag=r_flag=0\n",
    "            if i==0:\n",
    "                i+=1\n",
    "                pushV.pop(j)\n",
    "                continue\n",
    "            #栈里找\n",
    "            if left>=0:\n",
    "                if pushV[left]!=popV[i]:\n",
    "                    pass\n",
    "                else:\n",
    "                    pushV.pop(left)\n",
    "                    left-=1\n",
    "                    l_flag=1\n",
    "            #栈外找\n",
    "            if right<len(pushV) and l_flag==0:\n",
    "                if pushV[right]==popV[i]:\n",
    "                    pushV.pop(right)#找到则删除\n",
    "                    r_flag=1\n",
    "                else:\n",
    "                    #需要进栈几个元素的情况\n",
    "                    try:\n",
    "                        j=pushV[right:].index(popV[i])\n",
    "                        r_flag=1\n",
    "                        left=right+j-1\n",
    "                        pushV.pop(right+j)\n",
    "                        right+=j\n",
    "                    except:\n",
    "                        return False\n",
    "            if r_flag==1 or l_flag==1:\n",
    "                i+=1\n",
    "            else:\n",
    "                print(left)\n",
    "                return False\n",
    "        return True"
   ]
  },
  {
   "cell_type": "code",
   "execution_count": 54,
   "metadata": {},
   "outputs": [
    {
     "data": {
      "text/plain": [
       "True"
      ]
     },
     "execution_count": 54,
     "metadata": {},
     "output_type": "execute_result"
    }
   ],
   "source": [
    "s=Solution()\n",
    "s.IsPopOrder([1,2,3,4,5],[3,5,4,2,1])"
   ]
  }
 ],
 "metadata": {
  "kernelspec": {
   "display_name": "Python 3",
   "language": "python",
   "name": "python3"
  },
  "language_info": {
   "codemirror_mode": {
    "name": "ipython",
    "version": 3
   },
   "file_extension": ".py",
   "mimetype": "text/x-python",
   "name": "python",
   "nbconvert_exporter": "python",
   "pygments_lexer": "ipython3",
   "version": "3.6.3"
  }
 },
 "nbformat": 4,
 "nbformat_minor": 2
}
