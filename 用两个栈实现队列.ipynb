{
 "cells": [
  {
   "cell_type": "markdown",
   "metadata": {},
   "source": [
    "### 题目：用两个栈来实现一个队列，完成队列的Push和Pop操作。 队列中的元素为int类型。"
   ]
  },
  {
   "cell_type": "code",
   "execution_count": 2,
   "metadata": {
    "collapsed": true
   },
   "outputs": [],
   "source": [
    "#当前元素进栈时，先将内部元素依次出栈到另一个栈，将当前元素压入栈底，再将另一个栈的元素依次出栈回到当前栈，元素位置相对位置顺序不改变\n",
    "class Solution:\n",
    "    def __init__(self):\n",
    "        self.stack1 = []\n",
    "        self.stack2 = []\n",
    "    def push(self, node):\n",
    "        #若空栈，直接加入\n",
    "        if not self.stack1:\n",
    "            self.stack1.append(node)\n",
    "        else:\n",
    "            #将stack1中依次出栈到stack2\n",
    "            while self.stack1:\n",
    "                self.stack2.append(self.stack1.pop())\n",
    "            #将当前元素压入stack1底\n",
    "            self.stack1.append(node)\n",
    "            #将stack2中元素依次回到stack1\n",
    "            while self.stack2:\n",
    "                self.stack1.append(self.stack2.pop())\n",
    "    def pop(self):\n",
    "        return self.stack1.pop()"
   ]
  }
 ],
 "metadata": {
  "kernelspec": {
   "display_name": "Python 3",
   "language": "python",
   "name": "python3"
  },
  "language_info": {
   "codemirror_mode": {
    "name": "ipython",
    "version": 3
   },
   "file_extension": ".py",
   "mimetype": "text/x-python",
   "name": "python",
   "nbconvert_exporter": "python",
   "pygments_lexer": "ipython3",
   "version": "3.6.3"
  }
 },
 "nbformat": 4,
 "nbformat_minor": 2
}
