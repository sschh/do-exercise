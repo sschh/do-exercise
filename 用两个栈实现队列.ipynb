{
 "cells": [
  {
   "cell_type": "code",
   "execution_count": 2,
   "metadata": {},
   "outputs": [],
   "source": [
    "# -*- coding:utf-8 -*-\n",
    "class Solution:\n",
    "    def __init__(self):\n",
    "        self.stack1 = []\n",
    "        self.stack2 = []\n",
    "    def push(self, node):\n",
    "        if self.stack1==[]:\n",
    "            self.stack1.append(node)\n",
    "        else:\n",
    "            while self.stack1!=[]:\n",
    "                self.stack2.append(self.stack1.pop())\n",
    "            self.stack1.append(node)\n",
    "            while self.stack2!=[]:\n",
    "                self.stack1.append(self.stack2.pop())\n",
    "    def pop(self):\n",
    "        return self.stack1.pop()"
   ]
  },
  {
   "cell_type": "code",
   "execution_count": 3,
   "metadata": {},
   "outputs": [
    {
     "name": "stdout",
     "output_type": "stream",
     "text": [
      "0\n"
     ]
    }
   ],
   "source": [
    "s=Solution()\n",
    "for i in range(10):\n",
    "    s.push(i)\n",
    "print(s.pop())"
   ]
  }
 ],
 "metadata": {
  "kernelspec": {
   "display_name": "Python 3",
   "language": "python",
   "name": "python3"
  },
  "language_info": {
   "codemirror_mode": {
    "name": "ipython",
    "version": 3
   },
   "file_extension": ".py",
   "mimetype": "text/x-python",
   "name": "python",
   "nbconvert_exporter": "python",
   "pygments_lexer": "ipython3",
   "version": "3.6.3"
  }
 },
 "nbformat": 4,
 "nbformat_minor": 2
}
