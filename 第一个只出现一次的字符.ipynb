{
 "cells": [
  {
   "cell_type": "markdown",
   "metadata": {},
   "source": [
    "### 题目：在一个字符串(0<=字符串长度<=10000，全部由字母组成)中找到第一个只出现一次的字符,并返回它的位置, 如果没有则返回 -1（需要区分大小写）"
   ]
  },
  {
   "cell_type": "code",
   "execution_count": 11,
   "metadata": {
    "collapsed": true
   },
   "outputs": [],
   "source": [
    "#使用字典，将字符作为键，统计每个出现的次数\n",
    "#另一种创建哈希表的方法：将字符转化为ascii码，作为键存储\n",
    "class Solution:\n",
    "    def FirstNotRepeatingChar(self, s):\n",
    "        if not s:return -1\n",
    "        hashlist={}\n",
    "        for i in s:\n",
    "            #若字典中已存在该字符\n",
    "            if i in hashlist:\n",
    "                hashlist[i]+=1\n",
    "            else:\n",
    "                hashlist[i]=1\n",
    "        for i in range(len(s)):\n",
    "            #若找到键值为1，返回对应字符\n",
    "            if hashlist[s[i]]==1:\n",
    "                return i\n",
    "        return -1"
   ]
  }
 ],
 "metadata": {
  "kernelspec": {
   "display_name": "Python 3",
   "language": "python",
   "name": "python3"
  },
  "language_info": {
   "codemirror_mode": {
    "name": "ipython",
    "version": 3
   },
   "file_extension": ".py",
   "mimetype": "text/x-python",
   "name": "python",
   "nbconvert_exporter": "python",
   "pygments_lexer": "ipython3",
   "version": "3.6.3"
  }
 },
 "nbformat": 4,
 "nbformat_minor": 2
}
