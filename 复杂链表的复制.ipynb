{
 "cells": [
  {
   "cell_type": "markdown",
   "metadata": {},
   "source": [
    "### 题目：输入一个复杂链表（每个节点中有节点值，以及两个指针，一个指向下一个节点，另一个\n",
    "### 特殊指针指向任意一个节点），返回结果为复制后复杂链表的head。"
   ]
  },
  {
   "cell_type": "code",
   "execution_count": 1,
   "metadata": {},
   "outputs": [],
   "source": [
    "##答案来自评论区\n",
    "#使用list存储当前所有节点，使用字典以节点索引为键存储random指针关系\n",
    "#依据list生成新节点list，添加next指针和random指针     \n",
    "\n",
    "#另一种方法：\n",
    "#遍历链表，复制每个结点，将复制节点插入到对应原节点后；\n",
    "#重新遍历链表，复制老结点的随机指针给新结点\n",
    "#拆分链表，将链表拆分为原链表和复制后的链表\n",
    "\n",
    "class Solution:\n",
    "    # 返回 RandomListNode\n",
    "    def Clone(self, pHead):\n",
    "        p1 = pHead\n",
    "        #存储所有节点\n",
    "        nodes = []\n",
    "        #使用字典存储random指针对应关系，以节点索引作为键\n",
    "        d = {}\n",
    "        \n",
    "        #将链表所有节点按顺序添加到list中\n",
    "        while p1:\n",
    "            nodes.append(p1)\n",
    "            p1 = p1.next\n",
    "        \n",
    "        #将random指针关系添加到字典中\n",
    "        p1 = pHead\n",
    "        while p1:\n",
    "            #若当前节点存在random指针\n",
    "            if p1.random:\n",
    "                #以节点在list中的索引为键\n",
    "                d[nodes.index(p1)] = nodes.index(p1.random)\n",
    "            #若不存在，则为-1\n",
    "            else:\n",
    "                d[nodes.index(p1)] = -1\n",
    "            p1 = p1.next\n",
    "            \n",
    "        #在一个list中生成新链表，妙\n",
    "        new_nodes = [RandomListNode(x.label) for x in nodes]\n",
    "        #遍历新链表的索引和节点\n",
    "        for i,node in enumerate(new_nodes):\n",
    "            #依次连接节点\n",
    "            if i < len(new_nodes)-1:\n",
    "                node.next = new_nodes[i+1]\n",
    "            #若当前节点存在random指针\n",
    "            if d[i]!= -1:\n",
    "                node.random = new_nodes[d[i]]\n",
    "        #若不存在节点，返回None\n",
    "        return new_nodes[0] if new_nodes else None"
   ]
  }
 ],
 "metadata": {
  "kernelspec": {
   "display_name": "Python 3",
   "language": "python",
   "name": "python3"
  },
  "language_info": {
   "codemirror_mode": {
    "name": "ipython",
    "version": 3
   },
   "file_extension": ".py",
   "mimetype": "text/x-python",
   "name": "python",
   "nbconvert_exporter": "python",
   "pygments_lexer": "ipython3",
   "version": "3.6.3"
  }
 },
 "nbformat": 4,
 "nbformat_minor": 2
}
